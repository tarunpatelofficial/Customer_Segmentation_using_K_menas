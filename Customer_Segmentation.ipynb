{
  "cells": [
    {
      "cell_type": "markdown",
      "metadata": {
        "id": "pfEFrxrDe15y"
      },
      "source": [
        "# Importing Required Libraries\n",
        "Numpy For linear algebra |\n",
        "Pandas For Data processing, CSV file I/O (e.g. pd.read_csv) |\n",
        "Matplotlib For Data Visualizations"
      ]
    },
    {
      "cell_type": "code",
      "execution_count": 1,
      "metadata": {
        "id": "zA46pT2Ce150"
      },
      "outputs": [],
      "source": [
        "\n",
        "import numpy as np\n",
        "import pandas as pd \n",
        "\n",
        "import time, warnings\n",
        "import datetime as dt\n",
        "\n",
        "import matplotlib.pyplot as plt\n",
        "from pandas.plotting import scatter_matrix\n",
        "%matplotlib inline\n",
        "import seaborn as sns\n",
        "warnings.filterwarnings(\"ignore\")"
      ]
    },
    {
      "cell_type": "code",
      "execution_count": 2,
      "metadata": {
        "id": "3dfjdLpNe151",
        "outputId": "40e74a89-a0d3-4303-da76-4402a086450e"
      },
      "outputs": [
        {
          "data": {
            "text/html": [
              "<div>\n",
              "<style scoped>\n",
              "    .dataframe tbody tr th:only-of-type {\n",
              "        vertical-align: middle;\n",
              "    }\n",
              "\n",
              "    .dataframe tbody tr th {\n",
              "        vertical-align: top;\n",
              "    }\n",
              "\n",
              "    .dataframe thead th {\n",
              "        text-align: right;\n",
              "    }\n",
              "</style>\n",
              "<table border=\"1\" class=\"dataframe\">\n",
              "  <thead>\n",
              "    <tr style=\"text-align: right;\">\n",
              "      <th></th>\n",
              "      <th>InvoiceNo</th>\n",
              "      <th>StockCode</th>\n",
              "      <th>Description</th>\n",
              "      <th>Quantity</th>\n",
              "      <th>InvoiceDate</th>\n",
              "      <th>UnitPrice</th>\n",
              "      <th>CustomerID</th>\n",
              "      <th>Country</th>\n",
              "    </tr>\n",
              "  </thead>\n",
              "  <tbody>\n",
              "    <tr>\n",
              "      <th>0</th>\n",
              "      <td>536365</td>\n",
              "      <td>85123A</td>\n",
              "      <td>WHITE HANGING HEART T-LIGHT HOLDER</td>\n",
              "      <td>6</td>\n",
              "      <td>12/1/2010 8:26</td>\n",
              "      <td>2.55</td>\n",
              "      <td>17850</td>\n",
              "      <td>United Kingdom</td>\n",
              "    </tr>\n",
              "    <tr>\n",
              "      <th>1</th>\n",
              "      <td>536365</td>\n",
              "      <td>71053</td>\n",
              "      <td>WHITE METAL LANTERN</td>\n",
              "      <td>6</td>\n",
              "      <td>12/1/2010 8:26</td>\n",
              "      <td>3.39</td>\n",
              "      <td>17850</td>\n",
              "      <td>United Kingdom</td>\n",
              "    </tr>\n",
              "    <tr>\n",
              "      <th>2</th>\n",
              "      <td>536365</td>\n",
              "      <td>84406B</td>\n",
              "      <td>CREAM CUPID HEARTS COAT HANGER</td>\n",
              "      <td>8</td>\n",
              "      <td>12/1/2010 8:26</td>\n",
              "      <td>2.75</td>\n",
              "      <td>17850</td>\n",
              "      <td>United Kingdom</td>\n",
              "    </tr>\n",
              "    <tr>\n",
              "      <th>3</th>\n",
              "      <td>536365</td>\n",
              "      <td>84029G</td>\n",
              "      <td>KNITTED UNION FLAG HOT WATER BOTTLE</td>\n",
              "      <td>6</td>\n",
              "      <td>12/1/2010 8:26</td>\n",
              "      <td>3.39</td>\n",
              "      <td>17850</td>\n",
              "      <td>United Kingdom</td>\n",
              "    </tr>\n",
              "    <tr>\n",
              "      <th>4</th>\n",
              "      <td>536365</td>\n",
              "      <td>84029E</td>\n",
              "      <td>RED WOOLLY HOTTIE WHITE HEART.</td>\n",
              "      <td>6</td>\n",
              "      <td>12/1/2010 8:26</td>\n",
              "      <td>3.39</td>\n",
              "      <td>17850</td>\n",
              "      <td>United Kingdom</td>\n",
              "    </tr>\n",
              "  </tbody>\n",
              "</table>\n",
              "</div>"
            ],
            "text/plain": [
              "  InvoiceNo StockCode                          Description  Quantity  \\\n",
              "0    536365    85123A   WHITE HANGING HEART T-LIGHT HOLDER         6   \n",
              "1    536365     71053                  WHITE METAL LANTERN         6   \n",
              "2    536365    84406B       CREAM CUPID HEARTS COAT HANGER         8   \n",
              "3    536365    84029G  KNITTED UNION FLAG HOT WATER BOTTLE         6   \n",
              "4    536365    84029E       RED WOOLLY HOTTIE WHITE HEART.         6   \n",
              "\n",
              "      InvoiceDate  UnitPrice CustomerID         Country  \n",
              "0  12/1/2010 8:26       2.55      17850  United Kingdom  \n",
              "1  12/1/2010 8:26       3.39      17850  United Kingdom  \n",
              "2  12/1/2010 8:26       2.75      17850  United Kingdom  \n",
              "3  12/1/2010 8:26       3.39      17850  United Kingdom  \n",
              "4  12/1/2010 8:26       3.39      17850  United Kingdom  "
            ]
          },
          "execution_count": 2,
          "metadata": {},
          "output_type": "execute_result"
        }
      ],
      "source": [
        "import pandas as pd\n",
        "\n",
        "retail_df = pd.read_csv('retail_Dataset.csv',encoding=\"ISO-8859-1\",dtype={'CustomerID': str,'InvoiceID': str})\n",
        "retail_df.head()"
      ]
    },
    {
      "cell_type": "markdown",
      "metadata": {
        "id": "zSaRyMVoe152"
      },
      "source": [
        "# creating a new column \"Amount\" by multiplying \"Quantity\" and \"Unit Price\"\n",
        "\n"
      ]
    },
    {
      "cell_type": "code",
      "execution_count": 3,
      "metadata": {
        "id": "LNbK3ptte152",
        "outputId": "077d408a-f38f-4b10-e549-93d56e00527a"
      },
      "outputs": [
        {
          "data": {
            "text/html": [
              "<div>\n",
              "<style scoped>\n",
              "    .dataframe tbody tr th:only-of-type {\n",
              "        vertical-align: middle;\n",
              "    }\n",
              "\n",
              "    .dataframe tbody tr th {\n",
              "        vertical-align: top;\n",
              "    }\n",
              "\n",
              "    .dataframe thead th {\n",
              "        text-align: right;\n",
              "    }\n",
              "</style>\n",
              "<table border=\"1\" class=\"dataframe\">\n",
              "  <thead>\n",
              "    <tr style=\"text-align: right;\">\n",
              "      <th></th>\n",
              "      <th>InvoiceNo</th>\n",
              "      <th>StockCode</th>\n",
              "      <th>Description</th>\n",
              "      <th>Quantity</th>\n",
              "      <th>InvoiceDate</th>\n",
              "      <th>UnitPrice</th>\n",
              "      <th>CustomerID</th>\n",
              "      <th>Country</th>\n",
              "      <th>Amount</th>\n",
              "    </tr>\n",
              "  </thead>\n",
              "  <tbody>\n",
              "    <tr>\n",
              "      <th>0</th>\n",
              "      <td>536365</td>\n",
              "      <td>85123A</td>\n",
              "      <td>WHITE HANGING HEART T-LIGHT HOLDER</td>\n",
              "      <td>6</td>\n",
              "      <td>12/1/2010 8:26</td>\n",
              "      <td>2.55</td>\n",
              "      <td>17850</td>\n",
              "      <td>United Kingdom</td>\n",
              "      <td>15.30</td>\n",
              "    </tr>\n",
              "    <tr>\n",
              "      <th>1</th>\n",
              "      <td>536365</td>\n",
              "      <td>71053</td>\n",
              "      <td>WHITE METAL LANTERN</td>\n",
              "      <td>6</td>\n",
              "      <td>12/1/2010 8:26</td>\n",
              "      <td>3.39</td>\n",
              "      <td>17850</td>\n",
              "      <td>United Kingdom</td>\n",
              "      <td>20.34</td>\n",
              "    </tr>\n",
              "    <tr>\n",
              "      <th>2</th>\n",
              "      <td>536365</td>\n",
              "      <td>84406B</td>\n",
              "      <td>CREAM CUPID HEARTS COAT HANGER</td>\n",
              "      <td>8</td>\n",
              "      <td>12/1/2010 8:26</td>\n",
              "      <td>2.75</td>\n",
              "      <td>17850</td>\n",
              "      <td>United Kingdom</td>\n",
              "      <td>22.00</td>\n",
              "    </tr>\n",
              "    <tr>\n",
              "      <th>3</th>\n",
              "      <td>536365</td>\n",
              "      <td>84029G</td>\n",
              "      <td>KNITTED UNION FLAG HOT WATER BOTTLE</td>\n",
              "      <td>6</td>\n",
              "      <td>12/1/2010 8:26</td>\n",
              "      <td>3.39</td>\n",
              "      <td>17850</td>\n",
              "      <td>United Kingdom</td>\n",
              "      <td>20.34</td>\n",
              "    </tr>\n",
              "    <tr>\n",
              "      <th>4</th>\n",
              "      <td>536365</td>\n",
              "      <td>84029E</td>\n",
              "      <td>RED WOOLLY HOTTIE WHITE HEART.</td>\n",
              "      <td>6</td>\n",
              "      <td>12/1/2010 8:26</td>\n",
              "      <td>3.39</td>\n",
              "      <td>17850</td>\n",
              "      <td>United Kingdom</td>\n",
              "      <td>20.34</td>\n",
              "    </tr>\n",
              "    <tr>\n",
              "      <th>5</th>\n",
              "      <td>536365</td>\n",
              "      <td>22752</td>\n",
              "      <td>SET 7 BABUSHKA NESTING BOXES</td>\n",
              "      <td>2</td>\n",
              "      <td>12/1/2010 8:26</td>\n",
              "      <td>7.65</td>\n",
              "      <td>17850</td>\n",
              "      <td>United Kingdom</td>\n",
              "      <td>15.30</td>\n",
              "    </tr>\n",
              "    <tr>\n",
              "      <th>6</th>\n",
              "      <td>536365</td>\n",
              "      <td>21730</td>\n",
              "      <td>GLASS STAR FROSTED T-LIGHT HOLDER</td>\n",
              "      <td>6</td>\n",
              "      <td>12/1/2010 8:26</td>\n",
              "      <td>4.25</td>\n",
              "      <td>17850</td>\n",
              "      <td>United Kingdom</td>\n",
              "      <td>25.50</td>\n",
              "    </tr>\n",
              "    <tr>\n",
              "      <th>7</th>\n",
              "      <td>536366</td>\n",
              "      <td>22633</td>\n",
              "      <td>HAND WARMER UNION JACK</td>\n",
              "      <td>6</td>\n",
              "      <td>12/1/2010 8:28</td>\n",
              "      <td>1.85</td>\n",
              "      <td>17850</td>\n",
              "      <td>United Kingdom</td>\n",
              "      <td>11.10</td>\n",
              "    </tr>\n",
              "    <tr>\n",
              "      <th>8</th>\n",
              "      <td>536366</td>\n",
              "      <td>22632</td>\n",
              "      <td>HAND WARMER RED POLKA DOT</td>\n",
              "      <td>6</td>\n",
              "      <td>12/1/2010 8:28</td>\n",
              "      <td>1.85</td>\n",
              "      <td>17850</td>\n",
              "      <td>United Kingdom</td>\n",
              "      <td>11.10</td>\n",
              "    </tr>\n",
              "    <tr>\n",
              "      <th>9</th>\n",
              "      <td>536367</td>\n",
              "      <td>84879</td>\n",
              "      <td>ASSORTED COLOUR BIRD ORNAMENT</td>\n",
              "      <td>32</td>\n",
              "      <td>12/1/2010 8:34</td>\n",
              "      <td>1.69</td>\n",
              "      <td>13047</td>\n",
              "      <td>United Kingdom</td>\n",
              "      <td>54.08</td>\n",
              "    </tr>\n",
              "  </tbody>\n",
              "</table>\n",
              "</div>"
            ],
            "text/plain": [
              "  InvoiceNo StockCode                          Description  Quantity  \\\n",
              "0    536365    85123A   WHITE HANGING HEART T-LIGHT HOLDER         6   \n",
              "1    536365     71053                  WHITE METAL LANTERN         6   \n",
              "2    536365    84406B       CREAM CUPID HEARTS COAT HANGER         8   \n",
              "3    536365    84029G  KNITTED UNION FLAG HOT WATER BOTTLE         6   \n",
              "4    536365    84029E       RED WOOLLY HOTTIE WHITE HEART.         6   \n",
              "5    536365     22752         SET 7 BABUSHKA NESTING BOXES         2   \n",
              "6    536365     21730    GLASS STAR FROSTED T-LIGHT HOLDER         6   \n",
              "7    536366     22633               HAND WARMER UNION JACK         6   \n",
              "8    536366     22632            HAND WARMER RED POLKA DOT         6   \n",
              "9    536367     84879        ASSORTED COLOUR BIRD ORNAMENT        32   \n",
              "\n",
              "      InvoiceDate  UnitPrice CustomerID         Country  Amount  \n",
              "0  12/1/2010 8:26       2.55      17850  United Kingdom   15.30  \n",
              "1  12/1/2010 8:26       3.39      17850  United Kingdom   20.34  \n",
              "2  12/1/2010 8:26       2.75      17850  United Kingdom   22.00  \n",
              "3  12/1/2010 8:26       3.39      17850  United Kingdom   20.34  \n",
              "4  12/1/2010 8:26       3.39      17850  United Kingdom   20.34  \n",
              "5  12/1/2010 8:26       7.65      17850  United Kingdom   15.30  \n",
              "6  12/1/2010 8:26       4.25      17850  United Kingdom   25.50  \n",
              "7  12/1/2010 8:28       1.85      17850  United Kingdom   11.10  \n",
              "8  12/1/2010 8:28       1.85      17850  United Kingdom   11.10  \n",
              "9  12/1/2010 8:34       1.69      13047  United Kingdom   54.08  "
            ]
          },
          "execution_count": 3,
          "metadata": {},
          "output_type": "execute_result"
        }
      ],
      "source": [
        "retail_df[\"Amount\"]= retail_df[\"Quantity\"]*retail_df[\"UnitPrice\"]\n",
        "retail_df.head(10)"
      ]
    },
    {
      "cell_type": "markdown",
      "metadata": {
        "id": "yFZs2iNpe152"
      },
      "source": [
        "# Counting Null fields"
      ]
    },
    {
      "cell_type": "code",
      "execution_count": 4,
      "metadata": {
        "id": "CE38eS1ke153",
        "outputId": "fee6d52f-f94a-4b84-fcd7-938070d6f24e"
      },
      "outputs": [
        {
          "data": {
            "text/plain": [
              "InvoiceNo           0\n",
              "StockCode           0\n",
              "Description      1454\n",
              "Quantity            0\n",
              "InvoiceDate         0\n",
              "UnitPrice           0\n",
              "CustomerID     135080\n",
              "Country             0\n",
              "Amount              0\n",
              "dtype: int64"
            ]
          },
          "execution_count": 4,
          "metadata": {},
          "output_type": "execute_result"
        }
      ],
      "source": [
        "retail_df.isna().sum()"
      ]
    },
    {
      "cell_type": "markdown",
      "metadata": {
        "id": "UTP_PNiHe153"
      },
      "source": [
        "# Datatypes of Features"
      ]
    },
    {
      "cell_type": "code",
      "execution_count": 5,
      "metadata": {
        "id": "0u8fWjQHe153",
        "outputId": "2fb9c80c-8268-4428-c9fe-ca65cd6e8199"
      },
      "outputs": [
        {
          "data": {
            "text/plain": [
              "InvoiceNo       object\n",
              "StockCode       object\n",
              "Description     object\n",
              "Quantity         int64\n",
              "InvoiceDate     object\n",
              "UnitPrice      float64\n",
              "CustomerID      object\n",
              "Country         object\n",
              "Amount         float64\n",
              "dtype: object"
            ]
          },
          "execution_count": 5,
          "metadata": {},
          "output_type": "execute_result"
        }
      ],
      "source": [
        "retail_df.dtypes\n"
      ]
    },
    {
      "cell_type": "markdown",
      "metadata": {
        "id": "EeBZo9I2e153"
      },
      "source": [
        "# brief summary for columns whose data types are NOT NUMBER"
      ]
    },
    {
      "cell_type": "code",
      "execution_count": 6,
      "metadata": {
        "id": "oWh0RwiUe154",
        "outputId": "ad38fed1-7a97-48e3-a86d-f8d727e96a39"
      },
      "outputs": [
        {
          "data": {
            "text/html": [
              "<div>\n",
              "<style scoped>\n",
              "    .dataframe tbody tr th:only-of-type {\n",
              "        vertical-align: middle;\n",
              "    }\n",
              "\n",
              "    .dataframe tbody tr th {\n",
              "        vertical-align: top;\n",
              "    }\n",
              "\n",
              "    .dataframe thead th {\n",
              "        text-align: right;\n",
              "    }\n",
              "</style>\n",
              "<table border=\"1\" class=\"dataframe\">\n",
              "  <thead>\n",
              "    <tr style=\"text-align: right;\">\n",
              "      <th></th>\n",
              "      <th>InvoiceNo</th>\n",
              "      <th>StockCode</th>\n",
              "      <th>Description</th>\n",
              "      <th>InvoiceDate</th>\n",
              "      <th>CustomerID</th>\n",
              "      <th>Country</th>\n",
              "    </tr>\n",
              "  </thead>\n",
              "  <tbody>\n",
              "    <tr>\n",
              "      <th>count</th>\n",
              "      <td>541909</td>\n",
              "      <td>541909</td>\n",
              "      <td>540455</td>\n",
              "      <td>541909</td>\n",
              "      <td>406829</td>\n",
              "      <td>541909</td>\n",
              "    </tr>\n",
              "    <tr>\n",
              "      <th>unique</th>\n",
              "      <td>25900</td>\n",
              "      <td>4070</td>\n",
              "      <td>4223</td>\n",
              "      <td>23260</td>\n",
              "      <td>4372</td>\n",
              "      <td>38</td>\n",
              "    </tr>\n",
              "    <tr>\n",
              "      <th>top</th>\n",
              "      <td>573585</td>\n",
              "      <td>85123A</td>\n",
              "      <td>WHITE HANGING HEART T-LIGHT HOLDER</td>\n",
              "      <td>10/31/2011 14:41</td>\n",
              "      <td>17841</td>\n",
              "      <td>United Kingdom</td>\n",
              "    </tr>\n",
              "    <tr>\n",
              "      <th>freq</th>\n",
              "      <td>1114</td>\n",
              "      <td>2313</td>\n",
              "      <td>2369</td>\n",
              "      <td>1114</td>\n",
              "      <td>7983</td>\n",
              "      <td>495478</td>\n",
              "    </tr>\n",
              "  </tbody>\n",
              "</table>\n",
              "</div>"
            ],
            "text/plain": [
              "       InvoiceNo StockCode                         Description  \\\n",
              "count     541909    541909                              540455   \n",
              "unique     25900      4070                                4223   \n",
              "top       573585    85123A  WHITE HANGING HEART T-LIGHT HOLDER   \n",
              "freq        1114      2313                                2369   \n",
              "\n",
              "             InvoiceDate CustomerID         Country  \n",
              "count             541909     406829          541909  \n",
              "unique             23260       4372              38  \n",
              "top     10/31/2011 14:41      17841  United Kingdom  \n",
              "freq                1114       7983          495478  "
            ]
          },
          "execution_count": 6,
          "metadata": {},
          "output_type": "execute_result"
        }
      ],
      "source": [
        "retail_df.describe(exclude=\"number\")\n"
      ]
    },
    {
      "cell_type": "markdown",
      "metadata": {
        "id": "dv8bpSD_e154"
      },
      "source": [
        "# summary for columns whose data types are NUMBER\n",
        "\n"
      ]
    },
    {
      "cell_type": "code",
      "execution_count": 7,
      "metadata": {
        "id": "PXG0_sple154",
        "outputId": "5f61be4e-a43e-4458-c5d0-06eb113054c9"
      },
      "outputs": [
        {
          "data": {
            "text/html": [
              "<div>\n",
              "<style scoped>\n",
              "    .dataframe tbody tr th:only-of-type {\n",
              "        vertical-align: middle;\n",
              "    }\n",
              "\n",
              "    .dataframe tbody tr th {\n",
              "        vertical-align: top;\n",
              "    }\n",
              "\n",
              "    .dataframe thead th {\n",
              "        text-align: right;\n",
              "    }\n",
              "</style>\n",
              "<table border=\"1\" class=\"dataframe\">\n",
              "  <thead>\n",
              "    <tr style=\"text-align: right;\">\n",
              "      <th></th>\n",
              "      <th>Quantity</th>\n",
              "      <th>UnitPrice</th>\n",
              "      <th>Amount</th>\n",
              "    </tr>\n",
              "  </thead>\n",
              "  <tbody>\n",
              "    <tr>\n",
              "      <th>count</th>\n",
              "      <td>541909.000000</td>\n",
              "      <td>541909.000000</td>\n",
              "      <td>541909.000000</td>\n",
              "    </tr>\n",
              "    <tr>\n",
              "      <th>mean</th>\n",
              "      <td>9.552250</td>\n",
              "      <td>4.611114</td>\n",
              "      <td>17.987795</td>\n",
              "    </tr>\n",
              "    <tr>\n",
              "      <th>std</th>\n",
              "      <td>218.081158</td>\n",
              "      <td>96.759853</td>\n",
              "      <td>378.810824</td>\n",
              "    </tr>\n",
              "    <tr>\n",
              "      <th>min</th>\n",
              "      <td>-80995.000000</td>\n",
              "      <td>-11062.060000</td>\n",
              "      <td>-168469.600000</td>\n",
              "    </tr>\n",
              "    <tr>\n",
              "      <th>25%</th>\n",
              "      <td>1.000000</td>\n",
              "      <td>1.250000</td>\n",
              "      <td>3.400000</td>\n",
              "    </tr>\n",
              "    <tr>\n",
              "      <th>50%</th>\n",
              "      <td>3.000000</td>\n",
              "      <td>2.080000</td>\n",
              "      <td>9.750000</td>\n",
              "    </tr>\n",
              "    <tr>\n",
              "      <th>75%</th>\n",
              "      <td>10.000000</td>\n",
              "      <td>4.130000</td>\n",
              "      <td>17.400000</td>\n",
              "    </tr>\n",
              "    <tr>\n",
              "      <th>max</th>\n",
              "      <td>80995.000000</td>\n",
              "      <td>38970.000000</td>\n",
              "      <td>168469.600000</td>\n",
              "    </tr>\n",
              "  </tbody>\n",
              "</table>\n",
              "</div>"
            ],
            "text/plain": [
              "            Quantity      UnitPrice         Amount\n",
              "count  541909.000000  541909.000000  541909.000000\n",
              "mean        9.552250       4.611114      17.987795\n",
              "std       218.081158      96.759853     378.810824\n",
              "min    -80995.000000  -11062.060000 -168469.600000\n",
              "25%         1.000000       1.250000       3.400000\n",
              "50%         3.000000       2.080000       9.750000\n",
              "75%        10.000000       4.130000      17.400000\n",
              "max     80995.000000   38970.000000  168469.600000"
            ]
          },
          "execution_count": 7,
          "metadata": {},
          "output_type": "execute_result"
        }
      ],
      "source": [
        "retail_df.describe()"
      ]
    },
    {
      "cell_type": "markdown",
      "metadata": {
        "id": "FKGHYb0Ye155"
      },
      "source": [
        "# Number of rows and  columns"
      ]
    },
    {
      "cell_type": "code",
      "execution_count": 8,
      "metadata": {
        "id": "jVtM3Slpe155",
        "outputId": "56b93a25-3526-4c67-8689-f1349dff27d8"
      },
      "outputs": [
        {
          "data": {
            "text/plain": [
              "(541909, 9)"
            ]
          },
          "execution_count": 8,
          "metadata": {},
          "output_type": "execute_result"
        }
      ],
      "source": [
        "retail_df.shape\n"
      ]
    },
    {
      "cell_type": "markdown",
      "metadata": {
        "id": "WiiyFKe8e155"
      },
      "source": [
        "# Converting a column's datatype to datetime\n",
        "\n"
      ]
    },
    {
      "cell_type": "code",
      "execution_count": 9,
      "metadata": {
        "id": "bCb9lWyye155",
        "outputId": "558cc025-77da-44bc-8307-03585bdac3d9"
      },
      "outputs": [
        {
          "data": {
            "text/plain": [
              "InvoiceNo              object\n",
              "StockCode              object\n",
              "Description            object\n",
              "Quantity                int64\n",
              "InvoiceDate    datetime64[ns]\n",
              "UnitPrice             float64\n",
              "CustomerID             object\n",
              "Country                object\n",
              "Amount                float64\n",
              "dtype: object"
            ]
          },
          "execution_count": 9,
          "metadata": {},
          "output_type": "execute_result"
        }
      ],
      "source": [
        "retail_df[\"InvoiceDate\"] = pd.to_datetime(retail_df[\"InvoiceDate\"])\n",
        "retail_df.dtypes"
      ]
    },
    {
      "cell_type": "code",
      "execution_count": 10,
      "metadata": {
        "id": "2u13biXDe155",
        "outputId": "72e04ac9-5d0a-4a75-a6da-3d0f979977da"
      },
      "outputs": [
        {
          "data": {
            "text/html": [
              "<div>\n",
              "<style scoped>\n",
              "    .dataframe tbody tr th:only-of-type {\n",
              "        vertical-align: middle;\n",
              "    }\n",
              "\n",
              "    .dataframe tbody tr th {\n",
              "        vertical-align: top;\n",
              "    }\n",
              "\n",
              "    .dataframe thead th {\n",
              "        text-align: right;\n",
              "    }\n",
              "</style>\n",
              "<table border=\"1\" class=\"dataframe\">\n",
              "  <thead>\n",
              "    <tr style=\"text-align: right;\">\n",
              "      <th></th>\n",
              "      <th>InvoiceNo</th>\n",
              "      <th>StockCode</th>\n",
              "      <th>Description</th>\n",
              "      <th>Quantity</th>\n",
              "      <th>InvoiceDate</th>\n",
              "      <th>UnitPrice</th>\n",
              "      <th>CustomerID</th>\n",
              "      <th>Country</th>\n",
              "      <th>Amount</th>\n",
              "    </tr>\n",
              "  </thead>\n",
              "  <tbody>\n",
              "    <tr>\n",
              "      <th>0</th>\n",
              "      <td>536365</td>\n",
              "      <td>85123A</td>\n",
              "      <td>WHITE HANGING HEART T-LIGHT HOLDER</td>\n",
              "      <td>6</td>\n",
              "      <td>2010-12-01 08:26:00</td>\n",
              "      <td>2.55</td>\n",
              "      <td>17850</td>\n",
              "      <td>United Kingdom</td>\n",
              "      <td>15.30</td>\n",
              "    </tr>\n",
              "    <tr>\n",
              "      <th>1</th>\n",
              "      <td>536365</td>\n",
              "      <td>71053</td>\n",
              "      <td>WHITE METAL LANTERN</td>\n",
              "      <td>6</td>\n",
              "      <td>2010-12-01 08:26:00</td>\n",
              "      <td>3.39</td>\n",
              "      <td>17850</td>\n",
              "      <td>United Kingdom</td>\n",
              "      <td>20.34</td>\n",
              "    </tr>\n",
              "    <tr>\n",
              "      <th>2</th>\n",
              "      <td>536365</td>\n",
              "      <td>84406B</td>\n",
              "      <td>CREAM CUPID HEARTS COAT HANGER</td>\n",
              "      <td>8</td>\n",
              "      <td>2010-12-01 08:26:00</td>\n",
              "      <td>2.75</td>\n",
              "      <td>17850</td>\n",
              "      <td>United Kingdom</td>\n",
              "      <td>22.00</td>\n",
              "    </tr>\n",
              "    <tr>\n",
              "      <th>3</th>\n",
              "      <td>536365</td>\n",
              "      <td>84029G</td>\n",
              "      <td>KNITTED UNION FLAG HOT WATER BOTTLE</td>\n",
              "      <td>6</td>\n",
              "      <td>2010-12-01 08:26:00</td>\n",
              "      <td>3.39</td>\n",
              "      <td>17850</td>\n",
              "      <td>United Kingdom</td>\n",
              "      <td>20.34</td>\n",
              "    </tr>\n",
              "    <tr>\n",
              "      <th>4</th>\n",
              "      <td>536365</td>\n",
              "      <td>84029E</td>\n",
              "      <td>RED WOOLLY HOTTIE WHITE HEART.</td>\n",
              "      <td>6</td>\n",
              "      <td>2010-12-01 08:26:00</td>\n",
              "      <td>3.39</td>\n",
              "      <td>17850</td>\n",
              "      <td>United Kingdom</td>\n",
              "      <td>20.34</td>\n",
              "    </tr>\n",
              "  </tbody>\n",
              "</table>\n",
              "</div>"
            ],
            "text/plain": [
              "  InvoiceNo StockCode                          Description  Quantity  \\\n",
              "0    536365    85123A   WHITE HANGING HEART T-LIGHT HOLDER         6   \n",
              "1    536365     71053                  WHITE METAL LANTERN         6   \n",
              "2    536365    84406B       CREAM CUPID HEARTS COAT HANGER         8   \n",
              "3    536365    84029G  KNITTED UNION FLAG HOT WATER BOTTLE         6   \n",
              "4    536365    84029E       RED WOOLLY HOTTIE WHITE HEART.         6   \n",
              "\n",
              "          InvoiceDate  UnitPrice CustomerID         Country  Amount  \n",
              "0 2010-12-01 08:26:00       2.55      17850  United Kingdom   15.30  \n",
              "1 2010-12-01 08:26:00       3.39      17850  United Kingdom   20.34  \n",
              "2 2010-12-01 08:26:00       2.75      17850  United Kingdom   22.00  \n",
              "3 2010-12-01 08:26:00       3.39      17850  United Kingdom   20.34  \n",
              "4 2010-12-01 08:26:00       3.39      17850  United Kingdom   20.34  "
            ]
          },
          "execution_count": 10,
          "metadata": {},
          "output_type": "execute_result"
        }
      ],
      "source": [
        "retail_df.head()\n"
      ]
    },
    {
      "cell_type": "markdown",
      "metadata": {
        "id": "R-R2iogPe155"
      },
      "source": [
        "# Fetching proportions of Country with the parameter \"normalize=True\""
      ]
    },
    {
      "cell_type": "code",
      "execution_count": 11,
      "metadata": {
        "id": "7UrtX3Kle156",
        "outputId": "7c95c8b0-ce3a-43c9-f11f-a0fbf24f4615"
      },
      "outputs": [
        {
          "data": {
            "text/plain": [
              "Country\n",
              "United Kingdom          0.914320\n",
              "Germany                 0.017521\n",
              "France                  0.015790\n",
              "EIRE                    0.015124\n",
              "Spain                   0.004674\n",
              "Netherlands             0.004375\n",
              "Belgium                 0.003818\n",
              "Switzerland             0.003694\n",
              "Portugal                0.002803\n",
              "Australia               0.002323\n",
              "Norway                  0.002004\n",
              "Italy                   0.001482\n",
              "Channel Islands         0.001399\n",
              "Finland                 0.001283\n",
              "Cyprus                  0.001148\n",
              "Sweden                  0.000853\n",
              "Unspecified             0.000823\n",
              "Austria                 0.000740\n",
              "Denmark                 0.000718\n",
              "Japan                   0.000661\n",
              "Poland                  0.000629\n",
              "Israel                  0.000548\n",
              "USA                     0.000537\n",
              "Hong Kong               0.000531\n",
              "Singapore               0.000423\n",
              "Iceland                 0.000336\n",
              "Canada                  0.000279\n",
              "Greece                  0.000269\n",
              "Malta                   0.000234\n",
              "United Arab Emirates    0.000125\n",
              "European Community      0.000113\n",
              "RSA                     0.000107\n",
              "Lebanon                 0.000083\n",
              "Lithuania               0.000065\n",
              "Brazil                  0.000059\n",
              "Czech Republic          0.000055\n",
              "Bahrain                 0.000035\n",
              "Saudi Arabia            0.000018\n",
              "Name: proportion, dtype: float64"
            ]
          },
          "execution_count": 11,
          "metadata": {},
          "output_type": "execute_result"
        }
      ],
      "source": [
        "\n",
        "retail_df.Country.value_counts(normalize=True)"
      ]
    },
    {
      "cell_type": "markdown",
      "metadata": {
        "id": "n7XiTIF-e156"
      },
      "source": [
        "# Proportion of UK customers\n",
        "\n"
      ]
    },
    {
      "cell_type": "code",
      "execution_count": 12,
      "metadata": {
        "id": "zKeO_dH9e156",
        "outputId": "276ae473-da7f-436d-f000-76c828b98915"
      },
      "outputs": [
        {
          "data": {
            "text/plain": [
              "0.903476669716377"
            ]
          },
          "execution_count": 12,
          "metadata": {},
          "output_type": "execute_result"
        }
      ],
      "source": [
        "\n",
        "retail_df[retail_df[\"Country\"]==\"United Kingdom\"].CustomerID.nunique() / retail_df.CustomerID.nunique()\n"
      ]
    },
    {
      "cell_type": "markdown",
      "metadata": {
        "id": "QyKPALkge156"
      },
      "source": [
        "# Observations:\n",
        "90% of the customers are from UK"
      ]
    },
    {
      "cell_type": "markdown",
      "metadata": {
        "id": "la6mxPxge156"
      },
      "source": [
        "# Forming a sub-sample which includes only the customers from UK\n",
        "\n"
      ]
    },
    {
      "cell_type": "code",
      "execution_count": 13,
      "metadata": {
        "id": "rvC92JW-e156",
        "outputId": "2f08088b-dff3-4885-a5f4-cceca0e8d1b0"
      },
      "outputs": [
        {
          "data": {
            "text/plain": [
              "(495478, 9)"
            ]
          },
          "execution_count": 13,
          "metadata": {},
          "output_type": "execute_result"
        }
      ],
      "source": [
        "retail_uk = retail_df[retail_df['Country']=='United Kingdom']\n",
        "retail_uk.shape"
      ]
    },
    {
      "cell_type": "markdown",
      "metadata": {
        "id": "MYsfpv4De156"
      },
      "source": [
        "# Removing canceled orders"
      ]
    },
    {
      "cell_type": "code",
      "execution_count": 14,
      "metadata": {
        "id": "Nc8I2lbhe157",
        "outputId": "23487101-99b7-4073-f016-338aead932a7"
      },
      "outputs": [
        {
          "data": {
            "text/plain": [
              "(486286, 9)"
            ]
          },
          "execution_count": 14,
          "metadata": {},
          "output_type": "execute_result"
        }
      ],
      "source": [
        "\n",
        "retail_uk = retail_uk[retail_uk['Quantity']>0]\n",
        "retail_uk.shape\n"
      ]
    },
    {
      "cell_type": "markdown",
      "metadata": {
        "id": "mZ4KCprge157"
      },
      "source": [
        "# Removing rows where customerID are NA since going to do CUSTOMER SEGMENTATION\n",
        "\n"
      ]
    },
    {
      "cell_type": "code",
      "execution_count": 15,
      "metadata": {
        "id": "DsfMZ-s7e157",
        "outputId": "c8271724-a22b-48e3-e7df-fce5b62f399f"
      },
      "outputs": [
        {
          "data": {
            "text/plain": [
              "(354345, 9)"
            ]
          },
          "execution_count": 15,
          "metadata": {},
          "output_type": "execute_result"
        }
      ],
      "source": [
        "retail_uk.dropna(subset=['CustomerID'],how='all',inplace=True)\n",
        "\n",
        "retail_uk.shape\n"
      ]
    },
    {
      "cell_type": "markdown",
      "metadata": {
        "id": "Zw5D7tFYe157"
      },
      "source": [
        "# Average total quantity ordered by a customer"
      ]
    },
    {
      "cell_type": "code",
      "execution_count": 16,
      "metadata": {
        "id": "QkRvbZgue157",
        "outputId": "e96a5c5d-e582-434b-dd5e-995499fa313b"
      },
      "outputs": [
        {
          "data": {
            "text/plain": [
              "1088.87324662076"
            ]
          },
          "execution_count": 16,
          "metadata": {},
          "output_type": "execute_result"
        }
      ],
      "source": [
        "np.mean(retail_uk.groupby(\"CustomerID\").Quantity.sum())"
      ]
    },
    {
      "cell_type": "markdown",
      "metadata": {
        "id": "epYcsS5_e157"
      },
      "source": [
        "# Average total amount spent by a customer\n",
        "\n"
      ]
    },
    {
      "cell_type": "code",
      "execution_count": 17,
      "metadata": {
        "id": "5S0JRnxWe157",
        "outputId": "0e02500a-5445-445e-e24b-456eb7bddc06"
      },
      "outputs": [
        {
          "data": {
            "text/plain": [
              "1863.9101132364192"
            ]
          },
          "execution_count": 17,
          "metadata": {},
          "output_type": "execute_result"
        }
      ],
      "source": [
        "np.mean(retail_uk.groupby(\"CustomerID\").Amount.sum())"
      ]
    },
    {
      "cell_type": "markdown",
      "metadata": {
        "id": "wwzI9Grhe158"
      },
      "source": [
        "# Exploring the unique values of each attribute\n",
        "\n"
      ]
    },
    {
      "cell_type": "code",
      "execution_count": 18,
      "metadata": {
        "id": "ydVHT1YKe158",
        "outputId": "3e740f03-009c-41e5-a530-269ea496d2b0"
      },
      "outputs": [
        {
          "name": "stdout",
          "output_type": "stream",
          "text": [
            "Summary..\n",
            "Number of invoices:  16649\n",
            "Number of products bought:  3645\n",
            "Number of customers: 3921\n",
            "Percentage of customers NA:  0.0 %\n",
            "Average quantity of product purchased by a customer:  1089.0\n",
            "Average revenue generated per customer:  1863.91\n",
            "Average product quantity sold per transaction:  12.0\n",
            "Average revenue generated per transaction:  20.63\n"
          ]
        }
      ],
      "source": [
        "print(\"Summary..\")\n",
        "print(\"Number of invoices: \", retail_uk['InvoiceNo'].nunique())\n",
        "print(\"Number of products bought: \",retail_uk['StockCode'].nunique())\n",
        "print(\"Number of customers:\", retail_uk['CustomerID'].nunique() )\n",
        "print(\"Percentage of customers NA: \", round(retail_uk['CustomerID'].isnull().sum() * 100 / len(retail_uk),2),\"%\" )\n",
        "print(\"Average quantity of product purchased by a customer: \", round(np.mean(retail_uk.groupby(\"CustomerID\").Quantity.sum()), 0))\n",
        "print(\"Average revenue generated per customer: \", round(np.mean(retail_uk.groupby(\"CustomerID\").Amount.sum()), 2))\n",
        "print(\"Average product quantity sold per transaction: \", round(retail_uk.Quantity.mean(), 0))\n",
        "print(\"Average revenue generated per transaction: \", round(retail_uk.Amount.mean(), 2) )"
      ]
    },
    {
      "cell_type": "markdown",
      "metadata": {
        "id": "1LyDdLzae158"
      },
      "source": [
        "# check for NaN's values to see if dataset is ready to go\n",
        "\n"
      ]
    },
    {
      "cell_type": "code",
      "execution_count": 19,
      "metadata": {
        "id": "kxJqxKD2e158",
        "outputId": "766a285f-1bc6-4b1d-dca7-d17a5aa203d4"
      },
      "outputs": [
        {
          "name": "stdout",
          "output_type": "stream",
          "text": [
            "<class 'pandas.core.frame.DataFrame'>\n",
            "Index: 354345 entries, 0 to 541893\n",
            "Data columns (total 9 columns):\n",
            " #   Column       Non-Null Count   Dtype         \n",
            "---  ------       --------------   -----         \n",
            " 0   InvoiceNo    354345 non-null  object        \n",
            " 1   StockCode    354345 non-null  object        \n",
            " 2   Description  354345 non-null  object        \n",
            " 3   Quantity     354345 non-null  int64         \n",
            " 4   InvoiceDate  354345 non-null  datetime64[ns]\n",
            " 5   UnitPrice    354345 non-null  float64       \n",
            " 6   CustomerID   354345 non-null  object        \n",
            " 7   Country      354345 non-null  object        \n",
            " 8   Amount       354345 non-null  float64       \n",
            "dtypes: datetime64[ns](1), float64(2), int64(1), object(5)\n",
            "memory usage: 27.0+ MB\n"
          ]
        }
      ],
      "source": [
        "\n",
        "retail_uk.info()"
      ]
    },
    {
      "cell_type": "markdown",
      "metadata": {
        "id": "00ZVeXCZe158"
      },
      "source": [
        "# Create a new column called date which contains the date of invoice only\n"
      ]
    },
    {
      "cell_type": "code",
      "execution_count": 20,
      "metadata": {
        "id": "x-gtImTse158"
      },
      "outputs": [],
      "source": [
        "retail_uk['date'] = pd.DatetimeIndex(retail_uk['InvoiceDate']).date"
      ]
    },
    {
      "cell_type": "code",
      "execution_count": 21,
      "metadata": {
        "id": "g6gTVv7ee158",
        "outputId": "d73b19e9-9365-42f5-8dd9-d0173a0770e3"
      },
      "outputs": [
        {
          "data": {
            "text/html": [
              "<div>\n",
              "<style scoped>\n",
              "    .dataframe tbody tr th:only-of-type {\n",
              "        vertical-align: middle;\n",
              "    }\n",
              "\n",
              "    .dataframe tbody tr th {\n",
              "        vertical-align: top;\n",
              "    }\n",
              "\n",
              "    .dataframe thead th {\n",
              "        text-align: right;\n",
              "    }\n",
              "</style>\n",
              "<table border=\"1\" class=\"dataframe\">\n",
              "  <thead>\n",
              "    <tr style=\"text-align: right;\">\n",
              "      <th></th>\n",
              "      <th>InvoiceNo</th>\n",
              "      <th>StockCode</th>\n",
              "      <th>Description</th>\n",
              "      <th>Quantity</th>\n",
              "      <th>InvoiceDate</th>\n",
              "      <th>UnitPrice</th>\n",
              "      <th>CustomerID</th>\n",
              "      <th>Country</th>\n",
              "      <th>Amount</th>\n",
              "      <th>date</th>\n",
              "    </tr>\n",
              "  </thead>\n",
              "  <tbody>\n",
              "    <tr>\n",
              "      <th>0</th>\n",
              "      <td>536365</td>\n",
              "      <td>85123A</td>\n",
              "      <td>WHITE HANGING HEART T-LIGHT HOLDER</td>\n",
              "      <td>6</td>\n",
              "      <td>2010-12-01 08:26:00</td>\n",
              "      <td>2.55</td>\n",
              "      <td>17850</td>\n",
              "      <td>United Kingdom</td>\n",
              "      <td>15.30</td>\n",
              "      <td>2010-12-01</td>\n",
              "    </tr>\n",
              "    <tr>\n",
              "      <th>1</th>\n",
              "      <td>536365</td>\n",
              "      <td>71053</td>\n",
              "      <td>WHITE METAL LANTERN</td>\n",
              "      <td>6</td>\n",
              "      <td>2010-12-01 08:26:00</td>\n",
              "      <td>3.39</td>\n",
              "      <td>17850</td>\n",
              "      <td>United Kingdom</td>\n",
              "      <td>20.34</td>\n",
              "      <td>2010-12-01</td>\n",
              "    </tr>\n",
              "    <tr>\n",
              "      <th>2</th>\n",
              "      <td>536365</td>\n",
              "      <td>84406B</td>\n",
              "      <td>CREAM CUPID HEARTS COAT HANGER</td>\n",
              "      <td>8</td>\n",
              "      <td>2010-12-01 08:26:00</td>\n",
              "      <td>2.75</td>\n",
              "      <td>17850</td>\n",
              "      <td>United Kingdom</td>\n",
              "      <td>22.00</td>\n",
              "      <td>2010-12-01</td>\n",
              "    </tr>\n",
              "    <tr>\n",
              "      <th>3</th>\n",
              "      <td>536365</td>\n",
              "      <td>84029G</td>\n",
              "      <td>KNITTED UNION FLAG HOT WATER BOTTLE</td>\n",
              "      <td>6</td>\n",
              "      <td>2010-12-01 08:26:00</td>\n",
              "      <td>3.39</td>\n",
              "      <td>17850</td>\n",
              "      <td>United Kingdom</td>\n",
              "      <td>20.34</td>\n",
              "      <td>2010-12-01</td>\n",
              "    </tr>\n",
              "    <tr>\n",
              "      <th>4</th>\n",
              "      <td>536365</td>\n",
              "      <td>84029E</td>\n",
              "      <td>RED WOOLLY HOTTIE WHITE HEART.</td>\n",
              "      <td>6</td>\n",
              "      <td>2010-12-01 08:26:00</td>\n",
              "      <td>3.39</td>\n",
              "      <td>17850</td>\n",
              "      <td>United Kingdom</td>\n",
              "      <td>20.34</td>\n",
              "      <td>2010-12-01</td>\n",
              "    </tr>\n",
              "  </tbody>\n",
              "</table>\n",
              "</div>"
            ],
            "text/plain": [
              "  InvoiceNo StockCode                          Description  Quantity  \\\n",
              "0    536365    85123A   WHITE HANGING HEART T-LIGHT HOLDER         6   \n",
              "1    536365     71053                  WHITE METAL LANTERN         6   \n",
              "2    536365    84406B       CREAM CUPID HEARTS COAT HANGER         8   \n",
              "3    536365    84029G  KNITTED UNION FLAG HOT WATER BOTTLE         6   \n",
              "4    536365    84029E       RED WOOLLY HOTTIE WHITE HEART.         6   \n",
              "\n",
              "          InvoiceDate  UnitPrice CustomerID         Country  Amount  \\\n",
              "0 2010-12-01 08:26:00       2.55      17850  United Kingdom   15.30   \n",
              "1 2010-12-01 08:26:00       3.39      17850  United Kingdom   20.34   \n",
              "2 2010-12-01 08:26:00       2.75      17850  United Kingdom   22.00   \n",
              "3 2010-12-01 08:26:00       3.39      17850  United Kingdom   20.34   \n",
              "4 2010-12-01 08:26:00       3.39      17850  United Kingdom   20.34   \n",
              "\n",
              "         date  \n",
              "0  2010-12-01  \n",
              "1  2010-12-01  \n",
              "2  2010-12-01  \n",
              "3  2010-12-01  \n",
              "4  2010-12-01  "
            ]
          },
          "execution_count": 21,
          "metadata": {},
          "output_type": "execute_result"
        }
      ],
      "source": [
        "retail_uk.head()\n"
      ]
    },
    {
      "cell_type": "markdown",
      "metadata": {
        "id": "8NMJV9_He158"
      },
      "source": [
        "# CREATING RECENCY DATAFRAME\n",
        "group by customers and check the last date of purchase"
      ]
    },
    {
      "cell_type": "code",
      "execution_count": 22,
      "metadata": {
        "id": "UrldwEoVe158",
        "outputId": "19cac482-5008-4636-a4b0-e120c4dda451"
      },
      "outputs": [
        {
          "data": {
            "text/html": [
              "<div>\n",
              "<style scoped>\n",
              "    .dataframe tbody tr th:only-of-type {\n",
              "        vertical-align: middle;\n",
              "    }\n",
              "\n",
              "    .dataframe tbody tr th {\n",
              "        vertical-align: top;\n",
              "    }\n",
              "\n",
              "    .dataframe thead th {\n",
              "        text-align: right;\n",
              "    }\n",
              "</style>\n",
              "<table border=\"1\" class=\"dataframe\">\n",
              "  <thead>\n",
              "    <tr style=\"text-align: right;\">\n",
              "      <th></th>\n",
              "      <th>CustomerID</th>\n",
              "      <th>LastPurshaceDate</th>\n",
              "    </tr>\n",
              "  </thead>\n",
              "  <tbody>\n",
              "    <tr>\n",
              "      <th>0</th>\n",
              "      <td>12346</td>\n",
              "      <td>2011-01-18</td>\n",
              "    </tr>\n",
              "    <tr>\n",
              "      <th>1</th>\n",
              "      <td>12747</td>\n",
              "      <td>2011-12-07</td>\n",
              "    </tr>\n",
              "    <tr>\n",
              "      <th>2</th>\n",
              "      <td>12748</td>\n",
              "      <td>2011-12-09</td>\n",
              "    </tr>\n",
              "    <tr>\n",
              "      <th>3</th>\n",
              "      <td>12749</td>\n",
              "      <td>2011-12-06</td>\n",
              "    </tr>\n",
              "    <tr>\n",
              "      <th>4</th>\n",
              "      <td>12820</td>\n",
              "      <td>2011-12-06</td>\n",
              "    </tr>\n",
              "  </tbody>\n",
              "</table>\n",
              "</div>"
            ],
            "text/plain": [
              "  CustomerID LastPurshaceDate\n",
              "0      12346       2011-01-18\n",
              "1      12747       2011-12-07\n",
              "2      12748       2011-12-09\n",
              "3      12749       2011-12-06\n",
              "4      12820       2011-12-06"
            ]
          },
          "execution_count": 22,
          "metadata": {},
          "output_type": "execute_result"
        }
      ],
      "source": [
        "\n",
        "recency_df = retail_uk.groupby(by='CustomerID', as_index=False)['date'].max()\n",
        "recency_df.columns = ['CustomerID','LastPurshaceDate']\n",
        "recency_df.head()"
      ]
    },
    {
      "cell_type": "markdown",
      "metadata": {
        "id": "RC7-Kwq3e158"
      },
      "source": [
        "# Calculating recency"
      ]
    },
    {
      "cell_type": "code",
      "execution_count": 23,
      "metadata": {
        "id": "n7AkISBCe159",
        "outputId": "8139b040-7f10-44d0-8a1b-13dd4ea15f8c"
      },
      "outputs": [
        {
          "name": "stdout",
          "output_type": "stream",
          "text": [
            "2011-12-09\n"
          ]
        }
      ],
      "source": [
        "now = dt.date(2011,12,9)\n",
        "print(now)\n",
        "recency_df['Recency'] = recency_df['LastPurshaceDate'].apply(lambda x: (now - x).days)"
      ]
    },
    {
      "cell_type": "code",
      "execution_count": 24,
      "metadata": {
        "id": "z4Exo8RQe159",
        "outputId": "554be8db-e9c7-4a98-af86-6ca34f7aada2"
      },
      "outputs": [
        {
          "data": {
            "text/html": [
              "<div>\n",
              "<style scoped>\n",
              "    .dataframe tbody tr th:only-of-type {\n",
              "        vertical-align: middle;\n",
              "    }\n",
              "\n",
              "    .dataframe tbody tr th {\n",
              "        vertical-align: top;\n",
              "    }\n",
              "\n",
              "    .dataframe thead th {\n",
              "        text-align: right;\n",
              "    }\n",
              "</style>\n",
              "<table border=\"1\" class=\"dataframe\">\n",
              "  <thead>\n",
              "    <tr style=\"text-align: right;\">\n",
              "      <th></th>\n",
              "      <th>CustomerID</th>\n",
              "      <th>LastPurshaceDate</th>\n",
              "      <th>Recency</th>\n",
              "    </tr>\n",
              "  </thead>\n",
              "  <tbody>\n",
              "    <tr>\n",
              "      <th>0</th>\n",
              "      <td>12346</td>\n",
              "      <td>2011-01-18</td>\n",
              "      <td>325</td>\n",
              "    </tr>\n",
              "    <tr>\n",
              "      <th>1</th>\n",
              "      <td>12747</td>\n",
              "      <td>2011-12-07</td>\n",
              "      <td>2</td>\n",
              "    </tr>\n",
              "    <tr>\n",
              "      <th>2</th>\n",
              "      <td>12748</td>\n",
              "      <td>2011-12-09</td>\n",
              "      <td>0</td>\n",
              "    </tr>\n",
              "    <tr>\n",
              "      <th>3</th>\n",
              "      <td>12749</td>\n",
              "      <td>2011-12-06</td>\n",
              "      <td>3</td>\n",
              "    </tr>\n",
              "    <tr>\n",
              "      <th>4</th>\n",
              "      <td>12820</td>\n",
              "      <td>2011-12-06</td>\n",
              "      <td>3</td>\n",
              "    </tr>\n",
              "  </tbody>\n",
              "</table>\n",
              "</div>"
            ],
            "text/plain": [
              "  CustomerID LastPurshaceDate  Recency\n",
              "0      12346       2011-01-18      325\n",
              "1      12747       2011-12-07        2\n",
              "2      12748       2011-12-09        0\n",
              "3      12749       2011-12-06        3\n",
              "4      12820       2011-12-06        3"
            ]
          },
          "execution_count": 24,
          "metadata": {},
          "output_type": "execute_result"
        }
      ],
      "source": [
        "recency_df.head()"
      ]
    },
    {
      "cell_type": "markdown",
      "metadata": {
        "id": "JUpiL2-le159"
      },
      "source": [
        "# Droping LastPurchaseDate as it is not needed anymore\n"
      ]
    },
    {
      "cell_type": "code",
      "execution_count": 25,
      "metadata": {
        "id": "L9l6AnhGe159"
      },
      "outputs": [],
      "source": [
        "recency_df.drop('LastPurshaceDate',axis=1,inplace=True)"
      ]
    },
    {
      "cell_type": "markdown",
      "metadata": {
        "id": "rRb1iPSme159"
      },
      "source": [
        "# CREATING FREQUENCY DATAFRAME\n",
        "droping duplicates"
      ]
    },
    {
      "cell_type": "code",
      "execution_count": 26,
      "metadata": {
        "id": "IAS3TFrae159"
      },
      "outputs": [],
      "source": [
        "retail_uk_copy = retail_uk\n",
        "retail_uk_copy.drop_duplicates(subset=['InvoiceNo', 'CustomerID'], inplace=True)"
      ]
    },
    {
      "cell_type": "markdown",
      "metadata": {
        "id": "rkbB8r-ke159"
      },
      "source": [
        "# Calculating frequency of purchases\n",
        "\n"
      ]
    },
    {
      "cell_type": "code",
      "execution_count": 27,
      "metadata": {
        "id": "YvdUaBFFe159",
        "outputId": "62625a72-c2d8-417a-860d-f0f1bb156677"
      },
      "outputs": [
        {
          "data": {
            "text/html": [
              "<div>\n",
              "<style scoped>\n",
              "    .dataframe tbody tr th:only-of-type {\n",
              "        vertical-align: middle;\n",
              "    }\n",
              "\n",
              "    .dataframe tbody tr th {\n",
              "        vertical-align: top;\n",
              "    }\n",
              "\n",
              "    .dataframe thead th {\n",
              "        text-align: right;\n",
              "    }\n",
              "</style>\n",
              "<table border=\"1\" class=\"dataframe\">\n",
              "  <thead>\n",
              "    <tr style=\"text-align: right;\">\n",
              "      <th></th>\n",
              "      <th>CustomerID</th>\n",
              "      <th>Frequency</th>\n",
              "    </tr>\n",
              "  </thead>\n",
              "  <tbody>\n",
              "    <tr>\n",
              "      <th>0</th>\n",
              "      <td>12346</td>\n",
              "      <td>1</td>\n",
              "    </tr>\n",
              "    <tr>\n",
              "      <th>1</th>\n",
              "      <td>12747</td>\n",
              "      <td>11</td>\n",
              "    </tr>\n",
              "    <tr>\n",
              "      <th>2</th>\n",
              "      <td>12748</td>\n",
              "      <td>210</td>\n",
              "    </tr>\n",
              "    <tr>\n",
              "      <th>3</th>\n",
              "      <td>12749</td>\n",
              "      <td>5</td>\n",
              "    </tr>\n",
              "    <tr>\n",
              "      <th>4</th>\n",
              "      <td>12820</td>\n",
              "      <td>4</td>\n",
              "    </tr>\n",
              "  </tbody>\n",
              "</table>\n",
              "</div>"
            ],
            "text/plain": [
              "  CustomerID  Frequency\n",
              "0      12346          1\n",
              "1      12747         11\n",
              "2      12748        210\n",
              "3      12749          5\n",
              "4      12820          4"
            ]
          },
          "execution_count": 27,
          "metadata": {},
          "output_type": "execute_result"
        }
      ],
      "source": [
        "frequency_df = retail_uk_copy.groupby(by=['CustomerID'], as_index=False)['InvoiceNo'].count()\n",
        "frequency_df.columns = ['CustomerID','Frequency']\n",
        "frequency_df.head()"
      ]
    },
    {
      "cell_type": "code",
      "execution_count": 28,
      "metadata": {
        "id": "4ckUGDH6e159",
        "outputId": "a9c4f429-7a80-49ff-d972-3069bbafab5a"
      },
      "outputs": [
        {
          "name": "stdout",
          "output_type": "stream",
          "text": [
            "<class 'pandas.core.frame.DataFrame'>\n",
            "Index: 16649 entries, 0 to 541890\n",
            "Data columns (total 10 columns):\n",
            " #   Column       Non-Null Count  Dtype         \n",
            "---  ------       --------------  -----         \n",
            " 0   InvoiceNo    16649 non-null  object        \n",
            " 1   StockCode    16649 non-null  object        \n",
            " 2   Description  16649 non-null  object        \n",
            " 3   Quantity     16649 non-null  int64         \n",
            " 4   InvoiceDate  16649 non-null  datetime64[ns]\n",
            " 5   UnitPrice    16649 non-null  float64       \n",
            " 6   CustomerID   16649 non-null  object        \n",
            " 7   Country      16649 non-null  object        \n",
            " 8   Amount       16649 non-null  float64       \n",
            " 9   date         16649 non-null  object        \n",
            "dtypes: datetime64[ns](1), float64(2), int64(1), object(6)\n",
            "memory usage: 1.4+ MB\n"
          ]
        }
      ],
      "source": [
        "retail_uk_copy.info()\n"
      ]
    },
    {
      "cell_type": "markdown",
      "metadata": {
        "id": "uAMvb5she159"
      },
      "source": [
        "# Amount spent by each individual customer"
      ]
    },
    {
      "cell_type": "code",
      "execution_count": 29,
      "metadata": {
        "id": "0LQGR3DMe15-",
        "outputId": "74de84cf-7348-4b20-9f04-9a98b5e35b3f"
      },
      "outputs": [
        {
          "data": {
            "text/html": [
              "<div>\n",
              "<style scoped>\n",
              "    .dataframe tbody tr th:only-of-type {\n",
              "        vertical-align: middle;\n",
              "    }\n",
              "\n",
              "    .dataframe tbody tr th {\n",
              "        vertical-align: top;\n",
              "    }\n",
              "\n",
              "    .dataframe thead th {\n",
              "        text-align: right;\n",
              "    }\n",
              "</style>\n",
              "<table border=\"1\" class=\"dataframe\">\n",
              "  <thead>\n",
              "    <tr style=\"text-align: right;\">\n",
              "      <th></th>\n",
              "      <th>CustomerID</th>\n",
              "      <th>Monetary</th>\n",
              "    </tr>\n",
              "  </thead>\n",
              "  <tbody>\n",
              "    <tr>\n",
              "      <th>0</th>\n",
              "      <td>12346</td>\n",
              "      <td>77183.60</td>\n",
              "    </tr>\n",
              "    <tr>\n",
              "      <th>1</th>\n",
              "      <td>12747</td>\n",
              "      <td>689.49</td>\n",
              "    </tr>\n",
              "    <tr>\n",
              "      <th>2</th>\n",
              "      <td>12748</td>\n",
              "      <td>3841.31</td>\n",
              "    </tr>\n",
              "    <tr>\n",
              "      <th>3</th>\n",
              "      <td>12749</td>\n",
              "      <td>98.35</td>\n",
              "    </tr>\n",
              "    <tr>\n",
              "      <th>4</th>\n",
              "      <td>12820</td>\n",
              "      <td>58.20</td>\n",
              "    </tr>\n",
              "  </tbody>\n",
              "</table>\n",
              "</div>"
            ],
            "text/plain": [
              "  CustomerID  Monetary\n",
              "0      12346  77183.60\n",
              "1      12747    689.49\n",
              "2      12748   3841.31\n",
              "3      12749     98.35\n",
              "4      12820     58.20"
            ]
          },
          "execution_count": 29,
          "metadata": {},
          "output_type": "execute_result"
        }
      ],
      "source": [
        "monetary_df = retail_uk.groupby(by='CustomerID',as_index=False)['Amount'].sum()\n",
        "monetary_df.columns = ['CustomerID','Monetary']\n",
        "monetary_df.head()"
      ]
    },
    {
      "cell_type": "markdown",
      "metadata": {
        "id": "ZGOF9XDVe15-"
      },
      "source": [
        "# RFM TABLE\n",
        "\n",
        "merging recency dataframe with frequency dataframe, resulting a temporary dataframe"
      ]
    },
    {
      "cell_type": "code",
      "execution_count": 30,
      "metadata": {
        "id": "K7UqnXgwe15-",
        "outputId": "33e89f93-10a1-4f31-c142-dfbd575606b8"
      },
      "outputs": [
        {
          "data": {
            "text/html": [
              "<div>\n",
              "<style scoped>\n",
              "    .dataframe tbody tr th:only-of-type {\n",
              "        vertical-align: middle;\n",
              "    }\n",
              "\n",
              "    .dataframe tbody tr th {\n",
              "        vertical-align: top;\n",
              "    }\n",
              "\n",
              "    .dataframe thead th {\n",
              "        text-align: right;\n",
              "    }\n",
              "</style>\n",
              "<table border=\"1\" class=\"dataframe\">\n",
              "  <thead>\n",
              "    <tr style=\"text-align: right;\">\n",
              "      <th></th>\n",
              "      <th>CustomerID</th>\n",
              "      <th>Recency</th>\n",
              "      <th>Frequency</th>\n",
              "    </tr>\n",
              "  </thead>\n",
              "  <tbody>\n",
              "    <tr>\n",
              "      <th>0</th>\n",
              "      <td>12346</td>\n",
              "      <td>325</td>\n",
              "      <td>1</td>\n",
              "    </tr>\n",
              "    <tr>\n",
              "      <th>1</th>\n",
              "      <td>12747</td>\n",
              "      <td>2</td>\n",
              "      <td>11</td>\n",
              "    </tr>\n",
              "    <tr>\n",
              "      <th>2</th>\n",
              "      <td>12748</td>\n",
              "      <td>0</td>\n",
              "      <td>210</td>\n",
              "    </tr>\n",
              "    <tr>\n",
              "      <th>3</th>\n",
              "      <td>12749</td>\n",
              "      <td>3</td>\n",
              "      <td>5</td>\n",
              "    </tr>\n",
              "    <tr>\n",
              "      <th>4</th>\n",
              "      <td>12820</td>\n",
              "      <td>3</td>\n",
              "      <td>4</td>\n",
              "    </tr>\n",
              "  </tbody>\n",
              "</table>\n",
              "</div>"
            ],
            "text/plain": [
              "  CustomerID  Recency  Frequency\n",
              "0      12346      325          1\n",
              "1      12747        2         11\n",
              "2      12748        0        210\n",
              "3      12749        3          5\n",
              "4      12820        3          4"
            ]
          },
          "execution_count": 30,
          "metadata": {},
          "output_type": "execute_result"
        }
      ],
      "source": [
        "\n",
        "temp_df = recency_df.merge(frequency_df,on='CustomerID')\n",
        "temp_df.head()"
      ]
    },
    {
      "cell_type": "markdown",
      "metadata": {
        "id": "d7Z7QZmfe15-"
      },
      "source": [
        "# Merging with monetary dataframe to get a table with the 3 columns\n",
        "\n"
      ]
    },
    {
      "cell_type": "code",
      "execution_count": 31,
      "metadata": {
        "id": "OD5krm-se15-",
        "outputId": "e785bb47-90ef-42e2-e4dd-3c40816cebfa"
      },
      "outputs": [
        {
          "data": {
            "text/html": [
              "<div>\n",
              "<style scoped>\n",
              "    .dataframe tbody tr th:only-of-type {\n",
              "        vertical-align: middle;\n",
              "    }\n",
              "\n",
              "    .dataframe tbody tr th {\n",
              "        vertical-align: top;\n",
              "    }\n",
              "\n",
              "    .dataframe thead th {\n",
              "        text-align: right;\n",
              "    }\n",
              "</style>\n",
              "<table border=\"1\" class=\"dataframe\">\n",
              "  <thead>\n",
              "    <tr style=\"text-align: right;\">\n",
              "      <th></th>\n",
              "      <th>CustomerID</th>\n",
              "      <th>Recency</th>\n",
              "      <th>Frequency</th>\n",
              "      <th>Monetary</th>\n",
              "    </tr>\n",
              "  </thead>\n",
              "  <tbody>\n",
              "    <tr>\n",
              "      <th>0</th>\n",
              "      <td>12346</td>\n",
              "      <td>325</td>\n",
              "      <td>1</td>\n",
              "      <td>77183.60</td>\n",
              "    </tr>\n",
              "    <tr>\n",
              "      <th>1</th>\n",
              "      <td>12747</td>\n",
              "      <td>2</td>\n",
              "      <td>11</td>\n",
              "      <td>689.49</td>\n",
              "    </tr>\n",
              "    <tr>\n",
              "      <th>2</th>\n",
              "      <td>12748</td>\n",
              "      <td>0</td>\n",
              "      <td>210</td>\n",
              "      <td>3841.31</td>\n",
              "    </tr>\n",
              "    <tr>\n",
              "      <th>3</th>\n",
              "      <td>12749</td>\n",
              "      <td>3</td>\n",
              "      <td>5</td>\n",
              "      <td>98.35</td>\n",
              "    </tr>\n",
              "    <tr>\n",
              "      <th>4</th>\n",
              "      <td>12820</td>\n",
              "      <td>3</td>\n",
              "      <td>4</td>\n",
              "      <td>58.20</td>\n",
              "    </tr>\n",
              "    <tr>\n",
              "      <th>...</th>\n",
              "      <td>...</td>\n",
              "      <td>...</td>\n",
              "      <td>...</td>\n",
              "      <td>...</td>\n",
              "    </tr>\n",
              "    <tr>\n",
              "      <th>3916</th>\n",
              "      <td>18280</td>\n",
              "      <td>277</td>\n",
              "      <td>1</td>\n",
              "      <td>23.70</td>\n",
              "    </tr>\n",
              "    <tr>\n",
              "      <th>3917</th>\n",
              "      <td>18281</td>\n",
              "      <td>180</td>\n",
              "      <td>1</td>\n",
              "      <td>5.04</td>\n",
              "    </tr>\n",
              "    <tr>\n",
              "      <th>3918</th>\n",
              "      <td>18282</td>\n",
              "      <td>7</td>\n",
              "      <td>2</td>\n",
              "      <td>38.25</td>\n",
              "    </tr>\n",
              "    <tr>\n",
              "      <th>3919</th>\n",
              "      <td>18283</td>\n",
              "      <td>3</td>\n",
              "      <td>16</td>\n",
              "      <td>66.75</td>\n",
              "    </tr>\n",
              "    <tr>\n",
              "      <th>3920</th>\n",
              "      <td>18287</td>\n",
              "      <td>42</td>\n",
              "      <td>3</td>\n",
              "      <td>80.40</td>\n",
              "    </tr>\n",
              "  </tbody>\n",
              "</table>\n",
              "<p>3921 rows × 4 columns</p>\n",
              "</div>"
            ],
            "text/plain": [
              "     CustomerID  Recency  Frequency  Monetary\n",
              "0         12346      325          1  77183.60\n",
              "1         12747        2         11    689.49\n",
              "2         12748        0        210   3841.31\n",
              "3         12749        3          5     98.35\n",
              "4         12820        3          4     58.20\n",
              "...         ...      ...        ...       ...\n",
              "3916      18280      277          1     23.70\n",
              "3917      18281      180          1      5.04\n",
              "3918      18282        7          2     38.25\n",
              "3919      18283        3         16     66.75\n",
              "3920      18287       42          3     80.40\n",
              "\n",
              "[3921 rows x 4 columns]"
            ]
          },
          "execution_count": 31,
          "metadata": {},
          "output_type": "execute_result"
        }
      ],
      "source": [
        "rfm_df = temp_df.merge(monetary_df,on='CustomerID')\n",
        "rfm_df"
      ]
    },
    {
      "cell_type": "markdown",
      "metadata": {
        "id": "x7W7w-QHe15-"
      },
      "source": [
        "# Making 0's 1, As 0's in Recency column can be ignored\n",
        "\n"
      ]
    },
    {
      "cell_type": "code",
      "execution_count": 32,
      "metadata": {
        "id": "1gzywX4Pe15-"
      },
      "outputs": [],
      "source": [
        "rfm_df['Recency'] = rfm_df[\"Recency\"] + 1"
      ]
    },
    {
      "cell_type": "markdown",
      "metadata": {
        "id": "V0cRc__Ze15-"
      },
      "source": [
        "# outlier treatment: the algorithm which is going to be used is vulnerable to outliers which are very very manipulative\n",
        "if not exclude outliers, the results will be heavily influenced"
      ]
    },
    {
      "cell_type": "code",
      "execution_count": 33,
      "metadata": {
        "id": "TSK5jzYHe15-",
        "outputId": "65c4b72c-3184-4259-b920-2dacb7b45545"
      },
      "outputs": [
        {
          "data": {
            "text/html": [
              "<div>\n",
              "<style scoped>\n",
              "    .dataframe tbody tr th:only-of-type {\n",
              "        vertical-align: middle;\n",
              "    }\n",
              "\n",
              "    .dataframe tbody tr th {\n",
              "        vertical-align: top;\n",
              "    }\n",
              "\n",
              "    .dataframe thead th {\n",
              "        text-align: right;\n",
              "    }\n",
              "</style>\n",
              "<table border=\"1\" class=\"dataframe\">\n",
              "  <thead>\n",
              "    <tr style=\"text-align: right;\">\n",
              "      <th></th>\n",
              "      <th>CustomerID</th>\n",
              "      <th>Recency</th>\n",
              "      <th>Frequency</th>\n",
              "      <th>Monetary</th>\n",
              "    </tr>\n",
              "  </thead>\n",
              "  <tbody>\n",
              "    <tr>\n",
              "      <th>0</th>\n",
              "      <td>12346</td>\n",
              "      <td>326</td>\n",
              "      <td>1</td>\n",
              "      <td>77183.60</td>\n",
              "    </tr>\n",
              "    <tr>\n",
              "      <th>1</th>\n",
              "      <td>12747</td>\n",
              "      <td>3</td>\n",
              "      <td>11</td>\n",
              "      <td>689.49</td>\n",
              "    </tr>\n",
              "    <tr>\n",
              "      <th>2</th>\n",
              "      <td>12748</td>\n",
              "      <td>1</td>\n",
              "      <td>210</td>\n",
              "      <td>3841.31</td>\n",
              "    </tr>\n",
              "    <tr>\n",
              "      <th>3</th>\n",
              "      <td>12749</td>\n",
              "      <td>4</td>\n",
              "      <td>5</td>\n",
              "      <td>98.35</td>\n",
              "    </tr>\n",
              "    <tr>\n",
              "      <th>4</th>\n",
              "      <td>12820</td>\n",
              "      <td>4</td>\n",
              "      <td>4</td>\n",
              "      <td>58.20</td>\n",
              "    </tr>\n",
              "    <tr>\n",
              "      <th>...</th>\n",
              "      <td>...</td>\n",
              "      <td>...</td>\n",
              "      <td>...</td>\n",
              "      <td>...</td>\n",
              "    </tr>\n",
              "    <tr>\n",
              "      <th>3916</th>\n",
              "      <td>18280</td>\n",
              "      <td>278</td>\n",
              "      <td>1</td>\n",
              "      <td>23.70</td>\n",
              "    </tr>\n",
              "    <tr>\n",
              "      <th>3917</th>\n",
              "      <td>18281</td>\n",
              "      <td>181</td>\n",
              "      <td>1</td>\n",
              "      <td>5.04</td>\n",
              "    </tr>\n",
              "    <tr>\n",
              "      <th>3918</th>\n",
              "      <td>18282</td>\n",
              "      <td>8</td>\n",
              "      <td>2</td>\n",
              "      <td>38.25</td>\n",
              "    </tr>\n",
              "    <tr>\n",
              "      <th>3919</th>\n",
              "      <td>18283</td>\n",
              "      <td>4</td>\n",
              "      <td>16</td>\n",
              "      <td>66.75</td>\n",
              "    </tr>\n",
              "    <tr>\n",
              "      <th>3920</th>\n",
              "      <td>18287</td>\n",
              "      <td>43</td>\n",
              "      <td>3</td>\n",
              "      <td>80.40</td>\n",
              "    </tr>\n",
              "  </tbody>\n",
              "</table>\n",
              "<p>3788 rows × 4 columns</p>\n",
              "</div>"
            ],
            "text/plain": [
              "     CustomerID  Recency  Frequency  Monetary\n",
              "0         12346      326          1  77183.60\n",
              "1         12747        3         11    689.49\n",
              "2         12748        1        210   3841.31\n",
              "3         12749        4          5     98.35\n",
              "4         12820        4          4     58.20\n",
              "...         ...      ...        ...       ...\n",
              "3916      18280      278          1     23.70\n",
              "3917      18281      181          1      5.04\n",
              "3918      18282        8          2     38.25\n",
              "3919      18283        4         16     66.75\n",
              "3920      18287       43          3     80.40\n",
              "\n",
              "[3788 rows x 4 columns]"
            ]
          },
          "execution_count": 33,
          "metadata": {},
          "output_type": "execute_result"
        }
      ],
      "source": [
        "\n",
        "\n",
        "Q1 = rfm_df.Recency.quantile(0.25)\n",
        "Q3 = rfm_df.Recency.quantile(0.75)\n",
        "IQR = Q3 - Q1\n",
        "rfm_df = rfm_df[(rfm_df.Recency >= (Q1 - 1.5*IQR)) & (rfm_df.Recency <= (Q3 + 1.5*IQR))]\n",
        "rfm_df"
      ]
    },
    {
      "cell_type": "markdown",
      "metadata": {
        "id": "6bHUXKMKe15-"
      },
      "source": [
        "# Outlier treatment for frequency\n",
        "\n"
      ]
    },
    {
      "cell_type": "code",
      "execution_count": 34,
      "metadata": {
        "id": "9mDDIfXZe15-",
        "outputId": "62a169fa-6cfc-4d74-ecf5-deb302a78080"
      },
      "outputs": [
        {
          "data": {
            "text/html": [
              "<div>\n",
              "<style scoped>\n",
              "    .dataframe tbody tr th:only-of-type {\n",
              "        vertical-align: middle;\n",
              "    }\n",
              "\n",
              "    .dataframe tbody tr th {\n",
              "        vertical-align: top;\n",
              "    }\n",
              "\n",
              "    .dataframe thead th {\n",
              "        text-align: right;\n",
              "    }\n",
              "</style>\n",
              "<table border=\"1\" class=\"dataframe\">\n",
              "  <thead>\n",
              "    <tr style=\"text-align: right;\">\n",
              "      <th></th>\n",
              "      <th>CustomerID</th>\n",
              "      <th>Recency</th>\n",
              "      <th>Frequency</th>\n",
              "      <th>Monetary</th>\n",
              "    </tr>\n",
              "  </thead>\n",
              "  <tbody>\n",
              "    <tr>\n",
              "      <th>0</th>\n",
              "      <td>12346</td>\n",
              "      <td>326</td>\n",
              "      <td>1</td>\n",
              "      <td>77183.60</td>\n",
              "    </tr>\n",
              "    <tr>\n",
              "      <th>1</th>\n",
              "      <td>12747</td>\n",
              "      <td>3</td>\n",
              "      <td>11</td>\n",
              "      <td>689.49</td>\n",
              "    </tr>\n",
              "    <tr>\n",
              "      <th>3</th>\n",
              "      <td>12749</td>\n",
              "      <td>4</td>\n",
              "      <td>5</td>\n",
              "      <td>98.35</td>\n",
              "    </tr>\n",
              "    <tr>\n",
              "      <th>4</th>\n",
              "      <td>12820</td>\n",
              "      <td>4</td>\n",
              "      <td>4</td>\n",
              "      <td>58.20</td>\n",
              "    </tr>\n",
              "    <tr>\n",
              "      <th>5</th>\n",
              "      <td>12821</td>\n",
              "      <td>215</td>\n",
              "      <td>1</td>\n",
              "      <td>19.92</td>\n",
              "    </tr>\n",
              "    <tr>\n",
              "      <th>...</th>\n",
              "      <td>...</td>\n",
              "      <td>...</td>\n",
              "      <td>...</td>\n",
              "      <td>...</td>\n",
              "    </tr>\n",
              "    <tr>\n",
              "      <th>3915</th>\n",
              "      <td>18278</td>\n",
              "      <td>74</td>\n",
              "      <td>1</td>\n",
              "      <td>17.00</td>\n",
              "    </tr>\n",
              "    <tr>\n",
              "      <th>3916</th>\n",
              "      <td>18280</td>\n",
              "      <td>278</td>\n",
              "      <td>1</td>\n",
              "      <td>23.70</td>\n",
              "    </tr>\n",
              "    <tr>\n",
              "      <th>3917</th>\n",
              "      <td>18281</td>\n",
              "      <td>181</td>\n",
              "      <td>1</td>\n",
              "      <td>5.04</td>\n",
              "    </tr>\n",
              "    <tr>\n",
              "      <th>3918</th>\n",
              "      <td>18282</td>\n",
              "      <td>8</td>\n",
              "      <td>2</td>\n",
              "      <td>38.25</td>\n",
              "    </tr>\n",
              "    <tr>\n",
              "      <th>3920</th>\n",
              "      <td>18287</td>\n",
              "      <td>43</td>\n",
              "      <td>3</td>\n",
              "      <td>80.40</td>\n",
              "    </tr>\n",
              "  </tbody>\n",
              "</table>\n",
              "<p>3528 rows × 4 columns</p>\n",
              "</div>"
            ],
            "text/plain": [
              "     CustomerID  Recency  Frequency  Monetary\n",
              "0         12346      326          1  77183.60\n",
              "1         12747        3         11    689.49\n",
              "3         12749        4          5     98.35\n",
              "4         12820        4          4     58.20\n",
              "5         12821      215          1     19.92\n",
              "...         ...      ...        ...       ...\n",
              "3915      18278       74          1     17.00\n",
              "3916      18280      278          1     23.70\n",
              "3917      18281      181          1      5.04\n",
              "3918      18282        8          2     38.25\n",
              "3920      18287       43          3     80.40\n",
              "\n",
              "[3528 rows x 4 columns]"
            ]
          },
          "execution_count": 34,
          "metadata": {},
          "output_type": "execute_result"
        }
      ],
      "source": [
        "Q1 = rfm_df.Frequency.quantile(0.25)\n",
        "Q3 = rfm_df.Frequency.quantile(0.75)\n",
        "IQR = Q3 - Q1\n",
        "rfm_df = rfm_df[(rfm_df.Frequency >= (Q1 - 1.5*IQR)) & (rfm_df.Frequency <= (Q3 + 1.5*IQR))]\n",
        "rfm_df"
      ]
    },
    {
      "cell_type": "markdown",
      "metadata": {
        "id": "ti1criw5e15_"
      },
      "source": [
        "# Outlier treatment for monetary\n",
        "\n"
      ]
    },
    {
      "cell_type": "code",
      "execution_count": 35,
      "metadata": {
        "id": "rifRlVxQe15_",
        "outputId": "42cbdc68-458b-4a62-9e59-b21ce92c3565"
      },
      "outputs": [
        {
          "data": {
            "text/html": [
              "<div>\n",
              "<style scoped>\n",
              "    .dataframe tbody tr th:only-of-type {\n",
              "        vertical-align: middle;\n",
              "    }\n",
              "\n",
              "    .dataframe tbody tr th {\n",
              "        vertical-align: top;\n",
              "    }\n",
              "\n",
              "    .dataframe thead th {\n",
              "        text-align: right;\n",
              "    }\n",
              "</style>\n",
              "<table border=\"1\" class=\"dataframe\">\n",
              "  <thead>\n",
              "    <tr style=\"text-align: right;\">\n",
              "      <th></th>\n",
              "      <th>CustomerID</th>\n",
              "      <th>Recency</th>\n",
              "      <th>Frequency</th>\n",
              "      <th>Monetary</th>\n",
              "    </tr>\n",
              "  </thead>\n",
              "  <tbody>\n",
              "    <tr>\n",
              "      <th>3</th>\n",
              "      <td>12749</td>\n",
              "      <td>4</td>\n",
              "      <td>5</td>\n",
              "      <td>98.35</td>\n",
              "    </tr>\n",
              "    <tr>\n",
              "      <th>4</th>\n",
              "      <td>12820</td>\n",
              "      <td>4</td>\n",
              "      <td>4</td>\n",
              "      <td>58.20</td>\n",
              "    </tr>\n",
              "    <tr>\n",
              "      <th>5</th>\n",
              "      <td>12821</td>\n",
              "      <td>215</td>\n",
              "      <td>1</td>\n",
              "      <td>19.92</td>\n",
              "    </tr>\n",
              "    <tr>\n",
              "      <th>6</th>\n",
              "      <td>12822</td>\n",
              "      <td>71</td>\n",
              "      <td>2</td>\n",
              "      <td>30.80</td>\n",
              "    </tr>\n",
              "    <tr>\n",
              "      <th>8</th>\n",
              "      <td>12824</td>\n",
              "      <td>60</td>\n",
              "      <td>1</td>\n",
              "      <td>5.04</td>\n",
              "    </tr>\n",
              "    <tr>\n",
              "      <th>...</th>\n",
              "      <td>...</td>\n",
              "      <td>...</td>\n",
              "      <td>...</td>\n",
              "      <td>...</td>\n",
              "    </tr>\n",
              "    <tr>\n",
              "      <th>3915</th>\n",
              "      <td>18278</td>\n",
              "      <td>74</td>\n",
              "      <td>1</td>\n",
              "      <td>17.00</td>\n",
              "    </tr>\n",
              "    <tr>\n",
              "      <th>3916</th>\n",
              "      <td>18280</td>\n",
              "      <td>278</td>\n",
              "      <td>1</td>\n",
              "      <td>23.70</td>\n",
              "    </tr>\n",
              "    <tr>\n",
              "      <th>3917</th>\n",
              "      <td>18281</td>\n",
              "      <td>181</td>\n",
              "      <td>1</td>\n",
              "      <td>5.04</td>\n",
              "    </tr>\n",
              "    <tr>\n",
              "      <th>3918</th>\n",
              "      <td>18282</td>\n",
              "      <td>8</td>\n",
              "      <td>2</td>\n",
              "      <td>38.25</td>\n",
              "    </tr>\n",
              "    <tr>\n",
              "      <th>3920</th>\n",
              "      <td>18287</td>\n",
              "      <td>43</td>\n",
              "      <td>3</td>\n",
              "      <td>80.40</td>\n",
              "    </tr>\n",
              "  </tbody>\n",
              "</table>\n",
              "<p>3195 rows × 4 columns</p>\n",
              "</div>"
            ],
            "text/plain": [
              "     CustomerID  Recency  Frequency  Monetary\n",
              "3         12749        4          5     98.35\n",
              "4         12820        4          4     58.20\n",
              "5         12821      215          1     19.92\n",
              "6         12822       71          2     30.80\n",
              "8         12824       60          1      5.04\n",
              "...         ...      ...        ...       ...\n",
              "3915      18278       74          1     17.00\n",
              "3916      18280      278          1     23.70\n",
              "3917      18281      181          1      5.04\n",
              "3918      18282        8          2     38.25\n",
              "3920      18287       43          3     80.40\n",
              "\n",
              "[3195 rows x 4 columns]"
            ]
          },
          "execution_count": 35,
          "metadata": {},
          "output_type": "execute_result"
        }
      ],
      "source": [
        "Q1 = rfm_df.Monetary.quantile(0.25)\n",
        "Q3 = rfm_df.Monetary.quantile(0.75)\n",
        "IQR = Q3 - Q1\n",
        "rfm_df = rfm_df[(rfm_df.Monetary >= (Q1 - 1.5*IQR)) & (rfm_df.Monetary <= (Q3 + 1.5*IQR))]\n",
        "rfm_df"
      ]
    },
    {
      "cell_type": "markdown",
      "metadata": {
        "id": "gWYwVAFPe15_"
      },
      "source": [
        "# Importing modules for k-Means Algorithm\n"
      ]
    },
    {
      "cell_type": "code",
      "execution_count": 36,
      "metadata": {
        "id": "P2D6FEWDe15_"
      },
      "outputs": [],
      "source": [
        "\n",
        "from sklearn.preprocessing import MinMaxScaler, StandardScaler\n",
        "from sklearn.cluster import KMeans, AgglomerativeClustering\n",
        "from scipy.cluster.hierarchy import linkage, dendrogram, cut_tree"
      ]
    },
    {
      "cell_type": "markdown",
      "metadata": {
        "id": "yDVJEUbue15_"
      },
      "source": [
        "# Scaling is crucial step to make k-Means clustering to work better\n",
        "\n",
        "scaling Recency values to the range (0,1)\n",
        "\n"
      ]
    },
    {
      "cell_type": "code",
      "execution_count": 37,
      "metadata": {
        "id": "4-Dh1p4ge15_"
      },
      "outputs": [],
      "source": [
        "\n",
        "rfm_df[\"R\"]= (rfm_df[\"Recency\"]-rfm_df[\"Recency\"].min())/(rfm_df[\"Recency\"].max()-rfm_df[\"Recency\"].min())\n"
      ]
    },
    {
      "cell_type": "markdown",
      "metadata": {
        "id": "auaARQnYe15_"
      },
      "source": [
        "# scaling Frequency values to the range (0,1)\n",
        "\n"
      ]
    },
    {
      "cell_type": "code",
      "execution_count": 38,
      "metadata": {
        "id": "VwkRjOSIe15_"
      },
      "outputs": [],
      "source": [
        "rfm_df[\"F\"]= (rfm_df[\"Frequency\"]-rfm_df[\"Frequency\"].min())/(rfm_df[\"Frequency\"].max()-rfm_df[\"Frequency\"].min())"
      ]
    },
    {
      "cell_type": "markdown",
      "metadata": {
        "id": "dlI6hOnAe15_"
      },
      "source": [
        "# scaling Monetary values to the range (0,1)\n",
        "\n"
      ]
    },
    {
      "cell_type": "code",
      "execution_count": 39,
      "metadata": {
        "id": "saY_enpne15_",
        "outputId": "9e82d914-ba40-4e5f-e1d9-d831a1e89c53"
      },
      "outputs": [
        {
          "data": {
            "text/html": [
              "<div>\n",
              "<style scoped>\n",
              "    .dataframe tbody tr th:only-of-type {\n",
              "        vertical-align: middle;\n",
              "    }\n",
              "\n",
              "    .dataframe tbody tr th {\n",
              "        vertical-align: top;\n",
              "    }\n",
              "\n",
              "    .dataframe thead th {\n",
              "        text-align: right;\n",
              "    }\n",
              "</style>\n",
              "<table border=\"1\" class=\"dataframe\">\n",
              "  <thead>\n",
              "    <tr style=\"text-align: right;\">\n",
              "      <th></th>\n",
              "      <th>CustomerID</th>\n",
              "      <th>Recency</th>\n",
              "      <th>Frequency</th>\n",
              "      <th>Monetary</th>\n",
              "      <th>R</th>\n",
              "      <th>F</th>\n",
              "      <th>M</th>\n",
              "    </tr>\n",
              "  </thead>\n",
              "  <tbody>\n",
              "    <tr>\n",
              "      <th>3</th>\n",
              "      <td>12749</td>\n",
              "      <td>4</td>\n",
              "      <td>5</td>\n",
              "      <td>98.35</td>\n",
              "      <td>0.009119</td>\n",
              "      <td>0.4</td>\n",
              "      <td>0.431227</td>\n",
              "    </tr>\n",
              "    <tr>\n",
              "      <th>4</th>\n",
              "      <td>12820</td>\n",
              "      <td>4</td>\n",
              "      <td>4</td>\n",
              "      <td>58.20</td>\n",
              "      <td>0.009119</td>\n",
              "      <td>0.3</td>\n",
              "      <td>0.255185</td>\n",
              "    </tr>\n",
              "    <tr>\n",
              "      <th>5</th>\n",
              "      <td>12821</td>\n",
              "      <td>215</td>\n",
              "      <td>1</td>\n",
              "      <td>19.92</td>\n",
              "      <td>0.650456</td>\n",
              "      <td>0.0</td>\n",
              "      <td>0.087342</td>\n",
              "    </tr>\n",
              "    <tr>\n",
              "      <th>6</th>\n",
              "      <td>12822</td>\n",
              "      <td>71</td>\n",
              "      <td>2</td>\n",
              "      <td>30.80</td>\n",
              "      <td>0.212766</td>\n",
              "      <td>0.1</td>\n",
              "      <td>0.135046</td>\n",
              "    </tr>\n",
              "    <tr>\n",
              "      <th>8</th>\n",
              "      <td>12824</td>\n",
              "      <td>60</td>\n",
              "      <td>1</td>\n",
              "      <td>5.04</td>\n",
              "      <td>0.179331</td>\n",
              "      <td>0.0</td>\n",
              "      <td>0.022098</td>\n",
              "    </tr>\n",
              "  </tbody>\n",
              "</table>\n",
              "</div>"
            ],
            "text/plain": [
              "  CustomerID  Recency  Frequency  Monetary         R    F         M\n",
              "3      12749        4          5     98.35  0.009119  0.4  0.431227\n",
              "4      12820        4          4     58.20  0.009119  0.3  0.255185\n",
              "5      12821      215          1     19.92  0.650456  0.0  0.087342\n",
              "6      12822       71          2     30.80  0.212766  0.1  0.135046\n",
              "8      12824       60          1      5.04  0.179331  0.0  0.022098"
            ]
          },
          "execution_count": 39,
          "metadata": {},
          "output_type": "execute_result"
        }
      ],
      "source": [
        "rfm_df[\"M\"]= (rfm_df[\"Monetary\"]-rfm_df[\"Monetary\"].min())/(rfm_df[\"Monetary\"].max()-rfm_df[\"Monetary\"].min())\n",
        "rfm_df.head()\n",
        "\n"
      ]
    },
    {
      "cell_type": "markdown",
      "metadata": {
        "id": "iVUS3i90e15_"
      },
      "source": [
        "# Observations\n",
        "In this analysis, the value of the customer is inversely proportional to the Recency value and directly proportional to the Frequency and Monetary values."
      ]
    },
    {
      "cell_type": "markdown",
      "metadata": {
        "id": "oy6v8oEDe16A"
      },
      "source": [
        "# Now,forming a new DataFrame,So RFM analysis can be made\n",
        "\n"
      ]
    },
    {
      "cell_type": "code",
      "execution_count": 40,
      "metadata": {
        "id": "9UER4mRme16A",
        "outputId": "edbdd67b-78d5-4ece-d596-5d2d75b571de"
      },
      "outputs": [
        {
          "data": {
            "text/html": [
              "<div>\n",
              "<style scoped>\n",
              "    .dataframe tbody tr th:only-of-type {\n",
              "        vertical-align: middle;\n",
              "    }\n",
              "\n",
              "    .dataframe tbody tr th {\n",
              "        vertical-align: top;\n",
              "    }\n",
              "\n",
              "    .dataframe thead th {\n",
              "        text-align: right;\n",
              "    }\n",
              "</style>\n",
              "<table border=\"1\" class=\"dataframe\">\n",
              "  <thead>\n",
              "    <tr style=\"text-align: right;\">\n",
              "      <th></th>\n",
              "      <th>CustomerID</th>\n",
              "      <th>Recency</th>\n",
              "      <th>Frequency</th>\n",
              "      <th>Monetary</th>\n",
              "      <th>R</th>\n",
              "      <th>F</th>\n",
              "      <th>M</th>\n",
              "    </tr>\n",
              "  </thead>\n",
              "  <tbody>\n",
              "    <tr>\n",
              "      <th>3</th>\n",
              "      <td>12749</td>\n",
              "      <td>4</td>\n",
              "      <td>5</td>\n",
              "      <td>98.35</td>\n",
              "      <td>0.009119</td>\n",
              "      <td>0.4</td>\n",
              "      <td>0.431227</td>\n",
              "    </tr>\n",
              "    <tr>\n",
              "      <th>4</th>\n",
              "      <td>12820</td>\n",
              "      <td>4</td>\n",
              "      <td>4</td>\n",
              "      <td>58.20</td>\n",
              "      <td>0.009119</td>\n",
              "      <td>0.3</td>\n",
              "      <td>0.255185</td>\n",
              "    </tr>\n",
              "    <tr>\n",
              "      <th>5</th>\n",
              "      <td>12821</td>\n",
              "      <td>215</td>\n",
              "      <td>1</td>\n",
              "      <td>19.92</td>\n",
              "      <td>0.650456</td>\n",
              "      <td>0.0</td>\n",
              "      <td>0.087342</td>\n",
              "    </tr>\n",
              "    <tr>\n",
              "      <th>6</th>\n",
              "      <td>12822</td>\n",
              "      <td>71</td>\n",
              "      <td>2</td>\n",
              "      <td>30.80</td>\n",
              "      <td>0.212766</td>\n",
              "      <td>0.1</td>\n",
              "      <td>0.135046</td>\n",
              "    </tr>\n",
              "    <tr>\n",
              "      <th>8</th>\n",
              "      <td>12824</td>\n",
              "      <td>60</td>\n",
              "      <td>1</td>\n",
              "      <td>5.04</td>\n",
              "      <td>0.179331</td>\n",
              "      <td>0.0</td>\n",
              "      <td>0.022098</td>\n",
              "    </tr>\n",
              "  </tbody>\n",
              "</table>\n",
              "</div>"
            ],
            "text/plain": [
              "  CustomerID  Recency  Frequency  Monetary         R    F         M\n",
              "3      12749        4          5     98.35  0.009119  0.4  0.431227\n",
              "4      12820        4          4     58.20  0.009119  0.3  0.255185\n",
              "5      12821      215          1     19.92  0.650456  0.0  0.087342\n",
              "6      12822       71          2     30.80  0.212766  0.1  0.135046\n",
              "8      12824       60          1      5.04  0.179331  0.0  0.022098"
            ]
          },
          "execution_count": 40,
          "metadata": {},
          "output_type": "execute_result"
        }
      ],
      "source": [
        "\n",
        "df = rfm_df\n",
        "df.head()"
      ]
    },
    {
      "cell_type": "code",
      "execution_count": 41,
      "metadata": {
        "id": "NMzunHcse16A",
        "outputId": "03e008e5-b834-456c-adb6-5fb94ffdab4c"
      },
      "outputs": [
        {
          "data": {
            "image/png": "[encoded data removed]",
            "text/plain": [
              "<Figure size 600x400 with 1 Axes>"
            ]
          },
          "metadata": {},
          "output_type": "display_data"
        }
      ],
      "source": [
        "# df[\"Recency\"].hist()\n",
        "plt.figure(figsize=(6, 4))\n",
        "rfm_df[\"Recency\"].hist(bins=10)\n",
        "plt.title(\"Recency Histogram\")\n",
        "plt.xlabel(\"Days Since Last Purchase\")\n",
        "plt.ylabel(\"Number of Customers\")\n",
        "plt.show()"
      ]
    },
    {
      "cell_type": "code",
      "execution_count": 42,
      "metadata": {
        "id": "eM3lYYOue16A",
        "outputId": "bd70313b-af7a-49e1-ec22-1fc67461d375"
      },
      "outputs": [
        {
          "data": {
            "image/png": "[encoded data removed]",
            "text/plain": [
              "<Figure size 600x400 with 1 Axes>"
            ]
          },
          "metadata": {},
          "output_type": "display_data"
        }
      ],
      "source": [
        "# df[\"Frequency\"].hist()\n",
        "plt.figure(figsize=(6, 4))\n",
        "rfm_df[\"Frequency\"].hist(bins=10)\n",
        "plt.title(\"Frequency Histogram\")\n",
        "plt.xlabel(\"Number of Purchases\")\n",
        "plt.ylabel(\"Number of Customers\")\n",
        "plt.show()"
      ]
    },
    {
      "cell_type": "code",
      "execution_count": 43,
      "metadata": {
        "id": "A4UFTIS1e16A",
        "outputId": "2e10f44e-6e16-4dde-804d-d86429dbab77"
      },
      "outputs": [
        {
          "data": {
            "image/png": "[encoded data removed]",
            "text/plain": [
              "<Figure size 600x400 with 1 Axes>"
            ]
          },
          "metadata": {},
          "output_type": "display_data"
        }
      ],
      "source": [
        "# df[\"Monetary\"].hist()\n",
        "plt.figure(figsize=(6, 4))\n",
        "rfm_df[\"Monetary\"].hist(bins=10)\n",
        "plt.title(\"Monetary Histogram\")\n",
        "plt.xlabel(\"Total Amount Spent\")\n",
        "plt.ylabel(\"Number of Customers\")\n",
        "plt.show()"
      ]
    },
    {
      "cell_type": "code",
      "execution_count": 44,
      "metadata": {
        "id": "8VeR5rR_e16A",
        "outputId": "687237dc-18a0-4e1d-a861-f6b604f1a1eb"
      },
      "outputs": [
        {
          "data": {
            "image/png": "[encoded data removed]",
            "text/plain": [
              "<Figure size 1500x600 with 3 Axes>"
            ]
          },
          "metadata": {},
          "output_type": "display_data"
        }
      ],
      "source": [
        "fig, (ax0, ax1, ax2) = plt.subplots(nrows= 1, ncols= 3, sharey=True, figsize=(15, 6))\n",
        "\n",
        "sns.distplot(df[\"Recency\"], ax=ax0, kde=False, color='b')\n",
        "ax0.set(xlabel=\"Recency\", ylabel=\"Number of customers\")\n",
        "\n",
        "sns.distplot(df[\"Frequency\"], ax=ax1, kde=False, color='r')\n",
        "ax1.set(xlabel=\"Frequency\")\n",
        "\n",
        "sns.distplot(df[\"Monetary\"], ax=ax2, kde=False, color='g')\n",
        "ax2.set(xlabel=\"Monetary\")\n",
        "\n",
        "\n",
        "fig.savefig(\"Histograms of Attributes\")"
      ]
    },
    {
      "cell_type": "markdown",
      "metadata": {
        "id": "01qisDGXe16A"
      },
      "source": [
        "# Resetting index for future concatenate purposes\n",
        "\n"
      ]
    },
    {
      "cell_type": "code",
      "execution_count": 45,
      "metadata": {
        "id": "eJU5LomVe16B",
        "outputId": "ceb26ce9-b40a-4d14-9ac3-4bf2bfb3d863"
      },
      "outputs": [
        {
          "data": {
            "text/html": [
              "<div>\n",
              "<style scoped>\n",
              "    .dataframe tbody tr th:only-of-type {\n",
              "        vertical-align: middle;\n",
              "    }\n",
              "\n",
              "    .dataframe tbody tr th {\n",
              "        vertical-align: top;\n",
              "    }\n",
              "\n",
              "    .dataframe thead th {\n",
              "        text-align: right;\n",
              "    }\n",
              "</style>\n",
              "<table border=\"1\" class=\"dataframe\">\n",
              "  <thead>\n",
              "    <tr style=\"text-align: right;\">\n",
              "      <th></th>\n",
              "      <th>CustomerID</th>\n",
              "      <th>Recency</th>\n",
              "      <th>Frequency</th>\n",
              "      <th>Monetary</th>\n",
              "      <th>R</th>\n",
              "      <th>F</th>\n",
              "      <th>M</th>\n",
              "    </tr>\n",
              "  </thead>\n",
              "  <tbody>\n",
              "    <tr>\n",
              "      <th>0</th>\n",
              "      <td>12749</td>\n",
              "      <td>4</td>\n",
              "      <td>5</td>\n",
              "      <td>98.35</td>\n",
              "      <td>0.009119</td>\n",
              "      <td>0.4</td>\n",
              "      <td>0.431227</td>\n",
              "    </tr>\n",
              "    <tr>\n",
              "      <th>1</th>\n",
              "      <td>12820</td>\n",
              "      <td>4</td>\n",
              "      <td>4</td>\n",
              "      <td>58.20</td>\n",
              "      <td>0.009119</td>\n",
              "      <td>0.3</td>\n",
              "      <td>0.255185</td>\n",
              "    </tr>\n",
              "    <tr>\n",
              "      <th>2</th>\n",
              "      <td>12821</td>\n",
              "      <td>215</td>\n",
              "      <td>1</td>\n",
              "      <td>19.92</td>\n",
              "      <td>0.650456</td>\n",
              "      <td>0.0</td>\n",
              "      <td>0.087342</td>\n",
              "    </tr>\n",
              "    <tr>\n",
              "      <th>3</th>\n",
              "      <td>12822</td>\n",
              "      <td>71</td>\n",
              "      <td>2</td>\n",
              "      <td>30.80</td>\n",
              "      <td>0.212766</td>\n",
              "      <td>0.1</td>\n",
              "      <td>0.135046</td>\n",
              "    </tr>\n",
              "    <tr>\n",
              "      <th>4</th>\n",
              "      <td>12824</td>\n",
              "      <td>60</td>\n",
              "      <td>1</td>\n",
              "      <td>5.04</td>\n",
              "      <td>0.179331</td>\n",
              "      <td>0.0</td>\n",
              "      <td>0.022098</td>\n",
              "    </tr>\n",
              "    <tr>\n",
              "      <th>...</th>\n",
              "      <td>...</td>\n",
              "      <td>...</td>\n",
              "      <td>...</td>\n",
              "      <td>...</td>\n",
              "      <td>...</td>\n",
              "      <td>...</td>\n",
              "      <td>...</td>\n",
              "    </tr>\n",
              "    <tr>\n",
              "      <th>3190</th>\n",
              "      <td>18278</td>\n",
              "      <td>74</td>\n",
              "      <td>1</td>\n",
              "      <td>17.00</td>\n",
              "      <td>0.221884</td>\n",
              "      <td>0.0</td>\n",
              "      <td>0.074539</td>\n",
              "    </tr>\n",
              "    <tr>\n",
              "      <th>3191</th>\n",
              "      <td>18280</td>\n",
              "      <td>278</td>\n",
              "      <td>1</td>\n",
              "      <td>23.70</td>\n",
              "      <td>0.841945</td>\n",
              "      <td>0.0</td>\n",
              "      <td>0.103915</td>\n",
              "    </tr>\n",
              "    <tr>\n",
              "      <th>3192</th>\n",
              "      <td>18281</td>\n",
              "      <td>181</td>\n",
              "      <td>1</td>\n",
              "      <td>5.04</td>\n",
              "      <td>0.547112</td>\n",
              "      <td>0.0</td>\n",
              "      <td>0.022098</td>\n",
              "    </tr>\n",
              "    <tr>\n",
              "      <th>3193</th>\n",
              "      <td>18282</td>\n",
              "      <td>8</td>\n",
              "      <td>2</td>\n",
              "      <td>38.25</td>\n",
              "      <td>0.021277</td>\n",
              "      <td>0.1</td>\n",
              "      <td>0.167712</td>\n",
              "    </tr>\n",
              "    <tr>\n",
              "      <th>3194</th>\n",
              "      <td>18287</td>\n",
              "      <td>43</td>\n",
              "      <td>3</td>\n",
              "      <td>80.40</td>\n",
              "      <td>0.127660</td>\n",
              "      <td>0.2</td>\n",
              "      <td>0.352523</td>\n",
              "    </tr>\n",
              "  </tbody>\n",
              "</table>\n",
              "<p>3195 rows × 7 columns</p>\n",
              "</div>"
            ],
            "text/plain": [
              "     CustomerID  Recency  Frequency  Monetary         R    F         M\n",
              "0         12749        4          5     98.35  0.009119  0.4  0.431227\n",
              "1         12820        4          4     58.20  0.009119  0.3  0.255185\n",
              "2         12821      215          1     19.92  0.650456  0.0  0.087342\n",
              "3         12822       71          2     30.80  0.212766  0.1  0.135046\n",
              "4         12824       60          1      5.04  0.179331  0.0  0.022098\n",
              "...         ...      ...        ...       ...       ...  ...       ...\n",
              "3190      18278       74          1     17.00  0.221884  0.0  0.074539\n",
              "3191      18280      278          1     23.70  0.841945  0.0  0.103915\n",
              "3192      18281      181          1      5.04  0.547112  0.0  0.022098\n",
              "3193      18282        8          2     38.25  0.021277  0.1  0.167712\n",
              "3194      18287       43          3     80.40  0.127660  0.2  0.352523\n",
              "\n",
              "[3195 rows x 7 columns]"
            ]
          },
          "execution_count": 45,
          "metadata": {},
          "output_type": "execute_result"
        }
      ],
      "source": [
        "df.reset_index(drop=True, inplace=True)\n",
        "df"
      ]
    },
    {
      "cell_type": "markdown",
      "metadata": {
        "id": "1aNqua0ce16B"
      },
      "source": [
        "# HOPKIN's STATISTICS\n",
        "Tells how much data is suitable to cluster"
      ]
    },
    {
      "cell_type": "code",
      "execution_count": 46,
      "metadata": {
        "id": "L-uNJvkle16B"
      },
      "outputs": [],
      "source": [
        "\n",
        "\n",
        "from sklearn.neighbors import NearestNeighbors\n",
        "from random import sample\n",
        "from numpy.random import uniform\n",
        "import numpy as np\n",
        "from math import isnan\n",
        "\n",
        "def hopkins(X):\n",
        "    d = X.shape[1]\n",
        "    #d = len(vars) # columns\n",
        "    n = len(X) # rows\n",
        "    m = int(0.1 * n)\n",
        "    nbrs = NearestNeighbors(n_neighbors=1).fit(X.values)\n",
        "\n",
        "    rand_X = sample(range(0, n, 1), m)\n",
        "\n",
        "    ujd = []\n",
        "    wjd = []\n",
        "    for j in range(0, m):\n",
        "        u_dist, _ = nbrs.kneighbors(uniform(np.amin(X,axis=0),np.amax(X,axis=0),d).reshape(1, -1), 2, return_distance=True)\n",
        "        ujd.append(u_dist[0][1])\n",
        "        w_dist, _ = nbrs.kneighbors(X.iloc[rand_X[j]].values.reshape(1, -1), 2, return_distance=True)\n",
        "        wjd.append(w_dist[0][1])\n",
        "\n",
        "    H = sum(ujd) / (sum(ujd) + sum(wjd))\n",
        "    if isnan(H):\n",
        "        print(ujd, wjd)\n",
        "        H = 0\n",
        "\n",
        "    return H"
      ]
    },
    {
      "cell_type": "code",
      "execution_count": 47,
      "metadata": {
        "id": "7Wy7M0Hke16B",
        "outputId": "248ff313-242e-4217-c337-909c70955fe5"
      },
      "outputs": [
        {
          "data": {
            "text/plain": [
              "0.9054470535041673"
            ]
          },
          "execution_count": 47,
          "metadata": {},
          "output_type": "execute_result"
        }
      ],
      "source": [
        "hopkins(df[[\"R\",\"F\",\"M\"]])\n",
        "\n"
      ]
    },
    {
      "cell_type": "markdown",
      "metadata": {
        "id": "mn8M2Bu7e16B"
      },
      "source": [
        "# Forming a new DF which includes only scaled R,F,M scores\n",
        "\n"
      ]
    },
    {
      "cell_type": "code",
      "execution_count": 48,
      "metadata": {
        "id": "haH_d-w3e16B",
        "outputId": "5feaf3d7-8710-4328-f4ea-cc2afdf0d693"
      },
      "outputs": [
        {
          "data": {
            "text/html": [
              "<div>\n",
              "<style scoped>\n",
              "    .dataframe tbody tr th:only-of-type {\n",
              "        vertical-align: middle;\n",
              "    }\n",
              "\n",
              "    .dataframe tbody tr th {\n",
              "        vertical-align: top;\n",
              "    }\n",
              "\n",
              "    .dataframe thead th {\n",
              "        text-align: right;\n",
              "    }\n",
              "</style>\n",
              "<table border=\"1\" class=\"dataframe\">\n",
              "  <thead>\n",
              "    <tr style=\"text-align: right;\">\n",
              "      <th></th>\n",
              "      <th>R</th>\n",
              "      <th>F</th>\n",
              "      <th>M</th>\n",
              "    </tr>\n",
              "    <tr>\n",
              "      <th>CustomerID</th>\n",
              "      <th></th>\n",
              "      <th></th>\n",
              "      <th></th>\n",
              "    </tr>\n",
              "  </thead>\n",
              "  <tbody>\n",
              "    <tr>\n",
              "      <th>12749</th>\n",
              "      <td>0.009119</td>\n",
              "      <td>0.4</td>\n",
              "      <td>0.431227</td>\n",
              "    </tr>\n",
              "    <tr>\n",
              "      <th>12820</th>\n",
              "      <td>0.009119</td>\n",
              "      <td>0.3</td>\n",
              "      <td>0.255185</td>\n",
              "    </tr>\n",
              "    <tr>\n",
              "      <th>12821</th>\n",
              "      <td>0.650456</td>\n",
              "      <td>0.0</td>\n",
              "      <td>0.087342</td>\n",
              "    </tr>\n",
              "    <tr>\n",
              "      <th>12822</th>\n",
              "      <td>0.212766</td>\n",
              "      <td>0.1</td>\n",
              "      <td>0.135046</td>\n",
              "    </tr>\n",
              "    <tr>\n",
              "      <th>12824</th>\n",
              "      <td>0.179331</td>\n",
              "      <td>0.0</td>\n",
              "      <td>0.022098</td>\n",
              "    </tr>\n",
              "    <tr>\n",
              "      <th>12826</th>\n",
              "      <td>0.006079</td>\n",
              "      <td>0.6</td>\n",
              "      <td>0.538431</td>\n",
              "    </tr>\n",
              "    <tr>\n",
              "      <th>12827</th>\n",
              "      <td>0.015198</td>\n",
              "      <td>0.2</td>\n",
              "      <td>0.369229</td>\n",
              "    </tr>\n",
              "    <tr>\n",
              "      <th>12828</th>\n",
              "      <td>0.006079</td>\n",
              "      <td>0.5</td>\n",
              "      <td>0.678739</td>\n",
              "    </tr>\n",
              "    <tr>\n",
              "      <th>12831</th>\n",
              "      <td>0.796353</td>\n",
              "      <td>0.0</td>\n",
              "      <td>0.149954</td>\n",
              "    </tr>\n",
              "    <tr>\n",
              "      <th>12832</th>\n",
              "      <td>0.097264</td>\n",
              "      <td>0.1</td>\n",
              "      <td>0.087254</td>\n",
              "    </tr>\n",
              "    <tr>\n",
              "      <th>12833</th>\n",
              "      <td>0.440729</td>\n",
              "      <td>0.0</td>\n",
              "      <td>0.065769</td>\n",
              "    </tr>\n",
              "    <tr>\n",
              "      <th>12834</th>\n",
              "      <td>0.857143</td>\n",
              "      <td>0.0</td>\n",
              "      <td>0.069715</td>\n",
              "    </tr>\n",
              "    <tr>\n",
              "      <th>12836</th>\n",
              "      <td>0.179331</td>\n",
              "      <td>0.3</td>\n",
              "      <td>0.127373</td>\n",
              "    </tr>\n",
              "    <tr>\n",
              "      <th>12837</th>\n",
              "      <td>0.525836</td>\n",
              "      <td>0.0</td>\n",
              "      <td>0.074539</td>\n",
              "    </tr>\n",
              "    <tr>\n",
              "      <th>12838</th>\n",
              "      <td>0.100304</td>\n",
              "      <td>0.1</td>\n",
              "      <td>0.049985</td>\n",
              "    </tr>\n",
              "    <tr>\n",
              "      <th>12840</th>\n",
              "      <td>0.434650</td>\n",
              "      <td>0.3</td>\n",
              "      <td>0.607708</td>\n",
              "    </tr>\n",
              "    <tr>\n",
              "      <th>12842</th>\n",
              "      <td>0.212766</td>\n",
              "      <td>0.1</td>\n",
              "      <td>0.099969</td>\n",
              "    </tr>\n",
              "    <tr>\n",
              "      <th>12843</th>\n",
              "      <td>0.197568</td>\n",
              "      <td>0.7</td>\n",
              "      <td>0.540185</td>\n",
              "    </tr>\n",
              "    <tr>\n",
              "      <th>12844</th>\n",
              "      <td>0.088146</td>\n",
              "      <td>0.1</td>\n",
              "      <td>0.038146</td>\n",
              "    </tr>\n",
              "    <tr>\n",
              "      <th>12847</th>\n",
              "      <td>0.066869</td>\n",
              "      <td>0.0</td>\n",
              "      <td>0.005130</td>\n",
              "    </tr>\n",
              "  </tbody>\n",
              "</table>\n",
              "</div>"
            ],
            "text/plain": [
              "                   R    F         M\n",
              "CustomerID                         \n",
              "12749       0.009119  0.4  0.431227\n",
              "12820       0.009119  0.3  0.255185\n",
              "12821       0.650456  0.0  0.087342\n",
              "12822       0.212766  0.1  0.135046\n",
              "12824       0.179331  0.0  0.022098\n",
              "12826       0.006079  0.6  0.538431\n",
              "12827       0.015198  0.2  0.369229\n",
              "12828       0.006079  0.5  0.678739\n",
              "12831       0.796353  0.0  0.149954\n",
              "12832       0.097264  0.1  0.087254\n",
              "12833       0.440729  0.0  0.065769\n",
              "12834       0.857143  0.0  0.069715\n",
              "12836       0.179331  0.3  0.127373\n",
              "12837       0.525836  0.0  0.074539\n",
              "12838       0.100304  0.1  0.049985\n",
              "12840       0.434650  0.3  0.607708\n",
              "12842       0.212766  0.1  0.099969\n",
              "12843       0.197568  0.7  0.540185\n",
              "12844       0.088146  0.1  0.038146\n",
              "12847       0.066869  0.0  0.005130"
            ]
          },
          "execution_count": 48,
          "metadata": {},
          "output_type": "execute_result"
        }
      ],
      "source": [
        "\n",
        "df_1 = df[[\"CustomerID\",\"R\",\"F\",\"M\"]]\n",
        "df_1.set_index(\"CustomerID\", inplace=True)\n",
        "df_1.head(20)"
      ]
    },
    {
      "cell_type": "markdown",
      "metadata": {
        "id": "nrxvw5Cde16B"
      },
      "source": [
        "# DENDROGRAM"
      ]
    },
    {
      "cell_type": "code",
      "execution_count": 49,
      "metadata": {
        "id": "9fCFzabxe16B",
        "outputId": "cb3dd93b-8c5b-49f7-90e4-cb938c9ce790"
      },
      "outputs": [
        {
          "data": {
            "image/png": "[encoded data removed]",
            "text/plain": [
              "<Figure size 640x480 with 1 Axes>"
            ]
          },
          "metadata": {},
          "output_type": "display_data"
        }
      ],
      "source": [
        "\n",
        "\n",
        "d = linkage(df_1, method='complete')\n",
        "dendrogram(d,\n",
        "          leaf_rotation=90,\n",
        "          leaf_font_size=5)\n",
        "\n",
        "# Label axes\n",
        "plt.xlabel('Sample Index or Customer')\n",
        "plt.ylabel('Linkage Distance (Dissimilarity)')\n",
        "\n",
        "# Show plot\n",
        "plt.title('Customer Dendrogram')\n",
        "plt.tight_layout()\n",
        "\n",
        "plt.show()"
      ]
    },
    {
      "cell_type": "markdown",
      "metadata": {
        "id": "p0DTSLzLe16C"
      },
      "source": [
        "# From dendrogram, it can be said that the possible numbers of clusters are 3,4,5,6\n",
        "\n"
      ]
    },
    {
      "cell_type": "code",
      "execution_count": 50,
      "metadata": {
        "id": "cv9dPB_2e16C"
      },
      "outputs": [],
      "source": [
        "\n",
        "\n",
        "model = KMeans(n_clusters= 4, init= 'random', max_iter= 500, tol= 1e-10)"
      ]
    },
    {
      "cell_type": "code",
      "execution_count": 51,
      "metadata": {
        "id": "TfmjXW6le16C",
        "outputId": "221bd9b3-7a3d-4075-da60-bb7273bb8f98"
      },
      "outputs": [
        {
          "name": "stdout",
          "output_type": "stream",
          "text": [
            "[[0.11276596 0.52853659 0.68783183]\n",
            " [0.69704761 0.05057325 0.14530911]\n",
            " [0.12064121 0.30566802 0.32126125]\n",
            " [0.1529969  0.06306593 0.10384616]]\n",
            "[2 2 1 ... 1 3 2]\n",
            "152.32517054567876\n",
            "43\n"
          ]
        }
      ],
      "source": [
        "model.fit(df_1)\n",
        "print(model.cluster_centers_)\n",
        "print(model.labels_)\n",
        "print(model.inertia_)\n",
        "print(model.n_iter_)\n"
      ]
    },
    {
      "cell_type": "markdown",
      "metadata": {
        "id": "pX-wlco1e16C"
      },
      "source": [
        "# FIND OPTIMUM \"K\" for k-Means\n",
        "\n"
      ]
    },
    {
      "cell_type": "code",
      "execution_count": 52,
      "metadata": {
        "id": "VZQ6RQhxe16C",
        "outputId": "b4bf486c-4a22-4df6-8b0c-68ad45904a00"
      },
      "outputs": [
        {
          "name": "stdout",
          "output_type": "stream",
          "text": [
            "Silhouette Score for each K : \n",
            " [[2, 0.41518604821988225], [3, 0.4641205971142387], [4, 0.38766757272898933], [5, 0.38646476906283644], [6, 0.3700029171594163], [7, 0.3744601409304006], [8, 0.357292152194654], [9, 0.3340958499536507], [10, 0.34063466282867266], [11, 0.3426431590445687], [12, 0.3246374253573959], [13, 0.31669996280209123], [14, 0.2943212990154847]]\n",
            "Inertia for each K : \n",
            " [[2, 332.4270508068102], [3, 182.3869218862231], [4, 152.32151083917398], [5, 127.57695017391644], [6, 108.2543473240658], [7, 95.8935277117635], [8, 84.6954449656003], [9, 77.82491771395277], [10, 72.05483689030109], [11, 67.11627022529413], [12, 62.34479888932207], [13, 58.60665165889248], [14, 55.93676186162376]]\n",
            "Number of iterations for each K :  [[2, 5], [3, 6], [4, 28], [5, 15], [6, 17], [7, 21], [8, 22], [9, 37], [10, 74], [11, 37], [12, 49], [13, 63], [14, 42]]\n"
          ]
        }
      ],
      "source": [
        "\n",
        "from sklearn.metrics import silhouette_score\n",
        "sse_ = []\n",
        "ssd = []\n",
        "centroids_from_kmeans = []\n",
        "iterations = []\n",
        "\n",
        "for k in range(2, 15):\n",
        "    kmeans = KMeans(n_clusters= k, init= 'random', n_init= 100, max_iter= 500, tol= 1e-10).fit(df_1)\n",
        "    sse_.append([k, silhouette_score(df_1, kmeans.labels_)])\n",
        "    ssd.append([k, kmeans.inertia_])\n",
        "    centroids_from_kmeans.append(kmeans.cluster_centers_)\n",
        "    iterations.append([k, kmeans.n_iter_])\n",
        "\n",
        "print(\"Silhouette Score for each K : \\n\", sse_)\n",
        "print(\"Inertia for each K : \\n\", ssd)\n",
        "print(\"Number of iterations for each K : \", iterations)"
      ]
    },
    {
      "cell_type": "code",
      "execution_count": 53,
      "metadata": {
        "id": "EAVxHaVqe16D",
        "outputId": "9b44e634-4306-49fe-b927-94da84d8e4aa"
      },
      "outputs": [
        {
          "data": {
            "image/png": "[encoded data removed]",
            "text/plain": [
              "<Figure size 640x480 with 1 Axes>"
            ]
          },
          "metadata": {},
          "output_type": "display_data"
        }
      ],
      "source": [
        "plt.plot(pd.DataFrame(sse_)[0], pd.DataFrame(sse_)[1], label= \"Silhouette Score\")\n",
        "plt.title(\"Silhouette Scores for Varying Number of Clusters\")\n",
        "plt.xlabel(\"# of clusters\")\n",
        "plt.ylabel(\"Silhouette Score\")\n",
        "plt.show()"
      ]
    },
    {
      "cell_type": "code",
      "execution_count": 54,
      "metadata": {
        "id": "nkZq9geGe16D",
        "outputId": "ea5f048d-bb04-4cf5-b095-77179935c108"
      },
      "outputs": [
        {
          "data": {
            "image/png": "[encoded data removed]",
            "text/plain": [
              "<Figure size 640x480 with 1 Axes>"
            ]
          },
          "metadata": {},
          "output_type": "display_data"
        }
      ],
      "source": [
        "plt.plot(pd.DataFrame(ssd)[0], pd.DataFrame(ssd)[1], label= \"Inertia\")\n",
        "plt.title(\"Inertia of K-means Clustering Results\")\n",
        "plt.xlabel(\"# of clusters\")\n",
        "plt.ylabel(\"Inertia\")\n",
        "plt.show()"
      ]
    },
    {
      "cell_type": "markdown",
      "metadata": {
        "id": "vYiy9N8Ae16D"
      },
      "source": [
        "# FIND OPTIMUM \"K\" for k-Means\n",
        "\n"
      ]
    },
    {
      "cell_type": "code",
      "execution_count": 55,
      "metadata": {
        "id": "vkhSpzHHe16D",
        "outputId": "a5ad0949-c9c8-4921-b58f-5cf0b0b246df"
      },
      "outputs": [
        {
          "name": "stdout",
          "output_type": "stream",
          "text": [
            "[[2, 0.40197907465500915], [3, 0.43093832826198136], [4, 0.35116774453201716], [5, 0.3095015202120643], [6, 0.3096931738327121], [7, 0.32754253382806536], [8, 0.3310536717538383], [9, 0.30316358149467487], [10, 0.26347424336788855], [11, 0.2597910626259992], [12, 0.26294125194091283], [13, 0.27417860106321357], [14, 0.275732734915207]]\n"
          ]
        }
      ],
      "source": [
        "\n",
        "sse_ward = []\n",
        "\n",
        "for k in range(2, 15):\n",
        "    h_cluster = AgglomerativeClustering(n_clusters= k)\n",
        "    h_cluster.fit(df_1)\n",
        "    sse_ward.append([k, silhouette_score(df_1, h_cluster.labels_)])\n",
        "\n",
        "print(sse_ward)"
      ]
    },
    {
      "cell_type": "code",
      "execution_count": 56,
      "metadata": {
        "id": "lQS6Ji3re16D",
        "outputId": "0aad1996-3a9c-481e-a1f3-3b3f5726fd3c"
      },
      "outputs": [
        {
          "data": {
            "image/png": "[encoded data removed]",
            "text/plain": [
              "<Figure size 640x480 with 1 Axes>"
            ]
          },
          "metadata": {},
          "output_type": "display_data"
        }
      ],
      "source": [
        "plt.plot(pd.DataFrame(sse_ward)[0], pd.DataFrame(sse_ward)[1], label= \"Silhouette Score\")\n",
        "plt.title(\"Silhouette Scores for Varying Number of Clusters\")\n",
        "plt.xlabel(\"# of clusters\")\n",
        "plt.ylabel(\"Silhouette Score\")\n",
        "plt.show()"
      ]
    },
    {
      "cell_type": "markdown",
      "metadata": {
        "id": "Q0Eq02yWe16D"
      },
      "source": [
        "# since low inertia and high silhouette score is desirable, let \"K\" (number of clusters) equals 3\n",
        "This is also in parallel with what dendrogram suggests\n",
        "\n",
        "\n",
        "Hierarchical Cluster Analyses to find initial seeds for k-means"
      ]
    },
    {
      "cell_type": "code",
      "execution_count": 57,
      "metadata": {
        "id": "QbfIB3SUe16E",
        "outputId": "419ce45f-4076-49f7-a67e-8d432556c109"
      },
      "outputs": [
        {
          "data": {
            "text/html": [
              "<style>#sk-container-id-1 {\n",
              "  /* Definition of color scheme common for light and dark mode */\n",
              "  --sklearn-color-text: black;\n",
              "  --sklearn-color-line: gray;\n",
              "  /* Definition of color scheme for unfitted estimators */\n",
              "  --sklearn-color-unfitted-level-0: #fff5e6;\n",
              "  --sklearn-color-unfitted-level-1: #f6e4d2;\n",
              "  --sklearn-color-unfitted-level-2: #ffe0b3;\n",
              "  --sklearn-color-unfitted-level-3: chocolate;\n",
              "  /* Definition of color scheme for fitted estimators */\n",
              "  --sklearn-color-fitted-level-0: #f0f8ff;\n",
              "  --sklearn-color-fitted-level-1: #d4ebff;\n",
              "  --sklearn-color-fitted-level-2: #b3dbfd;\n",
              "  --sklearn-color-fitted-level-3: cornflowerblue;\n",
              "\n",
              "  /* Specific color for light theme */\n",
              "  --sklearn-color-text-on-default-background: var(--sg-text-color, var(--theme-code-foreground, var(--jp-content-font-color1, black)));\n",
              "  --sklearn-color-background: var(--sg-background-color, var(--theme-background, var(--jp-layout-color0, white)));\n",
              "  --sklearn-color-border-box: var(--sg-text-color, var(--theme-code-foreground, var(--jp-content-font-color1, black)));\n",
              "  --sklearn-color-icon: #696969;\n",
              "\n",
              "  @media (prefers-color-scheme: dark) {\n",
              "    /* Redefinition of color scheme for dark theme */\n",
              "    --sklearn-color-text-on-default-background: var(--sg-text-color, var(--theme-code-foreground, var(--jp-content-font-color1, white)));\n",
              "    --sklearn-color-background: var(--sg-background-color, var(--theme-background, var(--jp-layout-color0, #111)));\n",
              "    --sklearn-color-border-box: var(--sg-text-color, var(--theme-code-foreground, var(--jp-content-font-color1, white)));\n",
              "    --sklearn-color-icon: #878787;\n",
              "  }\n",
              "}\n",
              "\n",
              "#sk-container-id-1 {\n",
              "  color: var(--sklearn-color-text);\n",
              "}\n",
              "\n",
              "#sk-container-id-1 pre {\n",
              "  padding: 0;\n",
              "}\n",
              "\n",
              "#sk-container-id-1 input.sk-hidden--visually {\n",
              "  border: 0;\n",
              "  clip: rect(1px 1px 1px 1px);\n",
              "  clip: rect(1px, 1px, 1px, 1px);\n",
              "  height: 1px;\n",
              "  margin: -1px;\n",
              "  overflow: hidden;\n",
              "  padding: 0;\n",
              "  position: absolute;\n",
              "  width: 1px;\n",
              "}\n",
              "\n",
              "#sk-container-id-1 div.sk-dashed-wrapped {\n",
              "  border: 1px dashed var(--sklearn-color-line);\n",
              "  margin: 0 0.4em 0.5em 0.4em;\n",
              "  box-sizing: border-box;\n",
              "  padding-bottom: 0.4em;\n",
              "  background-color: var(--sklearn-color-background);\n",
              "}\n",
              "\n",
              "#sk-container-id-1 div.sk-container {\n",
              "  /* jupyter's `normalize.less` sets `[hidden] { display: none; }`\n",
              "     but bootstrap.min.css set `[hidden] { display: none !important; }`\n",
              "     so we also need the `!important` here to be able to override the\n",
              "     default hidden behavior on the sphinx rendered scikit-learn.org.\n",
              "     See: https://github.com/scikit-learn/scikit-learn/issues/21755 */\n",
              "  display: inline-block !important;\n",
              "  position: relative;\n",
              "}\n",
              "\n",
              "#sk-container-id-1 div.sk-text-repr-fallback {\n",
              "  display: none;\n",
              "}\n",
              "\n",
              "div.sk-parallel-item,\n",
              "div.sk-serial,\n",
              "div.sk-item {\n",
              "  /* draw centered vertical line to link estimators */\n",
              "  background-image: linear-gradient(var(--sklearn-color-text-on-default-background), var(--sklearn-color-text-on-default-background));\n",
              "  background-size: 2px 100%;\n",
              "  background-repeat: no-repeat;\n",
              "  background-position: center center;\n",
              "}\n",
              "\n",
              "/* Parallel-specific style estimator block */\n",
              "\n",
              "#sk-container-id-1 div.sk-parallel-item::after {\n",
              "  content: \"\";\n",
              "  width: 100%;\n",
              "  border-bottom: 2px solid var(--sklearn-color-text-on-default-background);\n",
              "  flex-grow: 1;\n",
              "}\n",
              "\n",
              "#sk-container-id-1 div.sk-parallel {\n",
              "  display: flex;\n",
              "  align-items: stretch;\n",
              "  justify-content: center;\n",
              "  background-color: var(--sklearn-color-background);\n",
              "  position: relative;\n",
              "}\n",
              "\n",
              "#sk-container-id-1 div.sk-parallel-item {\n",
              "  display: flex;\n",
              "  flex-direction: column;\n",
              "}\n",
              "\n",
              "#sk-container-id-1 div.sk-parallel-item:first-child::after {\n",
              "  align-self: flex-end;\n",
              "  width: 50%;\n",
              "}\n",
              "\n",
              "#sk-container-id-1 div.sk-parallel-item:last-child::after {\n",
              "  align-self: flex-start;\n",
              "  width: 50%;\n",
              "}\n",
              "\n",
              "#sk-container-id-1 div.sk-parallel-item:only-child::after {\n",
              "  width: 0;\n",
              "}\n",
              "\n",
              "/* Serial-specific style estimator block */\n",
              "\n",
              "#sk-container-id-1 div.sk-serial {\n",
              "  display: flex;\n",
              "  flex-direction: column;\n",
              "  align-items: center;\n",
              "  background-color: var(--sklearn-color-background);\n",
              "  padding-right: 1em;\n",
              "  padding-left: 1em;\n",
              "}\n",
              "\n",
              "\n",
              "/* Toggleable style: style used for estimator/Pipeline/ColumnTransformer box that is\n",
              "clickable and can be expanded/collapsed.\n",
              "- Pipeline and ColumnTransformer use this feature and define the default style\n",
              "- Estimators will overwrite some part of the style using the `sk-estimator` class\n",
              "*/\n",
              "\n",
              "/* Pipeline and ColumnTransformer style (default) */\n",
              "\n",
              "#sk-container-id-1 div.sk-toggleable {\n",
              "  /* Default theme specific background. It is overwritten whether we have a\n",
              "  specific estimator or a Pipeline/ColumnTransformer */\n",
              "  background-color: var(--sklearn-color-background);\n",
              "}\n",
              "\n",
              "/* Toggleable label */\n",
              "#sk-container-id-1 label.sk-toggleable__label {\n",
              "  cursor: pointer;\n",
              "  display: block;\n",
              "  width: 100%;\n",
              "  margin-bottom: 0;\n",
              "  padding: 0.5em;\n",
              "  box-sizing: border-box;\n",
              "  text-align: center;\n",
              "}\n",
              "\n",
              "#sk-container-id-1 label.sk-toggleable__label-arrow:before {\n",
              "  /* Arrow on the left of the label */\n",
              "  content: \"▸\";\n",
              "  float: left;\n",
              "  margin-right: 0.25em;\n",
              "  color: var(--sklearn-color-icon);\n",
              "}\n",
              "\n",
              "#sk-container-id-1 label.sk-toggleable__label-arrow:hover:before {\n",
              "  color: var(--sklearn-color-text);\n",
              "}\n",
              "\n",
              "/* Toggleable content - dropdown */\n",
              "\n",
              "#sk-container-id-1 div.sk-toggleable__content {\n",
              "  max-height: 0;\n",
              "  max-width: 0;\n",
              "  overflow: hidden;\n",
              "  text-align: left;\n",
              "  /* unfitted */\n",
              "  background-color: var(--sklearn-color-unfitted-level-0);\n",
              "}\n",
              "\n",
              "#sk-container-id-1 div.sk-toggleable__content.fitted {\n",
              "  /* fitted */\n",
              "  background-color: var(--sklearn-color-fitted-level-0);\n",
              "}\n",
              "\n",
              "#sk-container-id-1 div.sk-toggleable__content pre {\n",
              "  margin: 0.2em;\n",
              "  border-radius: 0.25em;\n",
              "  color: var(--sklearn-color-text);\n",
              "  /* unfitted */\n",
              "  background-color: var(--sklearn-color-unfitted-level-0);\n",
              "}\n",
              "\n",
              "#sk-container-id-1 div.sk-toggleable__content.fitted pre {\n",
              "  /* unfitted */\n",
              "  background-color: var(--sklearn-color-fitted-level-0);\n",
              "}\n",
              "\n",
              "#sk-container-id-1 input.sk-toggleable__control:checked~div.sk-toggleable__content {\n",
              "  /* Expand drop-down */\n",
              "  max-height: 200px;\n",
              "  max-width: 100%;\n",
              "  overflow: auto;\n",
              "}\n",
              "\n",
              "#sk-container-id-1 input.sk-toggleable__control:checked~label.sk-toggleable__label-arrow:before {\n",
              "  content: \"▾\";\n",
              "}\n",
              "\n",
              "/* Pipeline/ColumnTransformer-specific style */\n",
              "\n",
              "#sk-container-id-1 div.sk-label input.sk-toggleable__control:checked~label.sk-toggleable__label {\n",
              "  color: var(--sklearn-color-text);\n",
              "  background-color: var(--sklearn-color-unfitted-level-2);\n",
              "}\n",
              "\n",
              "#sk-container-id-1 div.sk-label.fitted input.sk-toggleable__control:checked~label.sk-toggleable__label {\n",
              "  background-color: var(--sklearn-color-fitted-level-2);\n",
              "}\n",
              "\n",
              "/* Estimator-specific style */\n",
              "\n",
              "/* Colorize estimator box */\n",
              "#sk-container-id-1 div.sk-estimator input.sk-toggleable__control:checked~label.sk-toggleable__label {\n",
              "  /* unfitted */\n",
              "  background-color: var(--sklearn-color-unfitted-level-2);\n",
              "}\n",
              "\n",
              "#sk-container-id-1 div.sk-estimator.fitted input.sk-toggleable__control:checked~label.sk-toggleable__label {\n",
              "  /* fitted */\n",
              "  background-color: var(--sklearn-color-fitted-level-2);\n",
              "}\n",
              "\n",
              "#sk-container-id-1 div.sk-label label.sk-toggleable__label,\n",
              "#sk-container-id-1 div.sk-label label {\n",
              "  /* The background is the default theme color */\n",
              "  color: var(--sklearn-color-text-on-default-background);\n",
              "}\n",
              "\n",
              "/* On hover, darken the color of the background */\n",
              "#sk-container-id-1 div.sk-label:hover label.sk-toggleable__label {\n",
              "  color: var(--sklearn-color-text);\n",
              "  background-color: var(--sklearn-color-unfitted-level-2);\n",
              "}\n",
              "\n",
              "/* Label box, darken color on hover, fitted */\n",
              "#sk-container-id-1 div.sk-label.fitted:hover label.sk-toggleable__label.fitted {\n",
              "  color: var(--sklearn-color-text);\n",
              "  background-color: var(--sklearn-color-fitted-level-2);\n",
              "}\n",
              "\n",
              "/* Estimator label */\n",
              "\n",
              "#sk-container-id-1 div.sk-label label {\n",
              "  font-family: monospace;\n",
              "  font-weight: bold;\n",
              "  display: inline-block;\n",
              "  line-height: 1.2em;\n",
              "}\n",
              "\n",
              "#sk-container-id-1 div.sk-label-container {\n",
              "  text-align: center;\n",
              "}\n",
              "\n",
              "/* Estimator-specific */\n",
              "#sk-container-id-1 div.sk-estimator {\n",
              "  font-family: monospace;\n",
              "  border: 1px dotted var(--sklearn-color-border-box);\n",
              "  border-radius: 0.25em;\n",
              "  box-sizing: border-box;\n",
              "  margin-bottom: 0.5em;\n",
              "  /* unfitted */\n",
              "  background-color: var(--sklearn-color-unfitted-level-0);\n",
              "}\n",
              "\n",
              "#sk-container-id-1 div.sk-estimator.fitted {\n",
              "  /* fitted */\n",
              "  background-color: var(--sklearn-color-fitted-level-0);\n",
              "}\n",
              "\n",
              "/* on hover */\n",
              "#sk-container-id-1 div.sk-estimator:hover {\n",
              "  /* unfitted */\n",
              "  background-color: var(--sklearn-color-unfitted-level-2);\n",
              "}\n",
              "\n",
              "#sk-container-id-1 div.sk-estimator.fitted:hover {\n",
              "  /* fitted */\n",
              "  background-color: var(--sklearn-color-fitted-level-2);\n",
              "}\n",
              "\n",
              "/* Specification for estimator info (e.g. \"i\" and \"?\") */\n",
              "\n",
              "/* Common style for \"i\" and \"?\" */\n",
              "\n",
              ".sk-estimator-doc-link,\n",
              "a:link.sk-estimator-doc-link,\n",
              "a:visited.sk-estimator-doc-link {\n",
              "  float: right;\n",
              "  font-size: smaller;\n",
              "  line-height: 1em;\n",
              "  font-family: monospace;\n",
              "  background-color: var(--sklearn-color-background);\n",
              "  border-radius: 1em;\n",
              "  height: 1em;\n",
              "  width: 1em;\n",
              "  text-decoration: none !important;\n",
              "  margin-left: 1ex;\n",
              "  /* unfitted */\n",
              "  border: var(--sklearn-color-unfitted-level-1) 1pt solid;\n",
              "  color: var(--sklearn-color-unfitted-level-1);\n",
              "}\n",
              "\n",
              ".sk-estimator-doc-link.fitted,\n",
              "a:link.sk-estimator-doc-link.fitted,\n",
              "a:visited.sk-estimator-doc-link.fitted {\n",
              "  /* fitted */\n",
              "  border: var(--sklearn-color-fitted-level-1) 1pt solid;\n",
              "  color: var(--sklearn-color-fitted-level-1);\n",
              "}\n",
              "\n",
              "/* On hover */\n",
              "div.sk-estimator:hover .sk-estimator-doc-link:hover,\n",
              ".sk-estimator-doc-link:hover,\n",
              "div.sk-label-container:hover .sk-estimator-doc-link:hover,\n",
              ".sk-estimator-doc-link:hover {\n",
              "  /* unfitted */\n",
              "  background-color: var(--sklearn-color-unfitted-level-3);\n",
              "  color: var(--sklearn-color-background);\n",
              "  text-decoration: none;\n",
              "}\n",
              "\n",
              "div.sk-estimator.fitted:hover .sk-estimator-doc-link.fitted:hover,\n",
              ".sk-estimator-doc-link.fitted:hover,\n",
              "div.sk-label-container:hover .sk-estimator-doc-link.fitted:hover,\n",
              ".sk-estimator-doc-link.fitted:hover {\n",
              "  /* fitted */\n",
              "  background-color: var(--sklearn-color-fitted-level-3);\n",
              "  color: var(--sklearn-color-background);\n",
              "  text-decoration: none;\n",
              "}\n",
              "\n",
              "/* Span, style for the box shown on hovering the info icon */\n",
              ".sk-estimator-doc-link span {\n",
              "  display: none;\n",
              "  z-index: 9999;\n",
              "  position: relative;\n",
              "  font-weight: normal;\n",
              "  right: .2ex;\n",
              "  padding: .5ex;\n",
              "  margin: .5ex;\n",
              "  width: min-content;\n",
              "  min-width: 20ex;\n",
              "  max-width: 50ex;\n",
              "  color: var(--sklearn-color-text);\n",
              "  box-shadow: 2pt 2pt 4pt #999;\n",
              "  /* unfitted */\n",
              "  background: var(--sklearn-color-unfitted-level-0);\n",
              "  border: .5pt solid var(--sklearn-color-unfitted-level-3);\n",
              "}\n",
              "\n",
              ".sk-estimator-doc-link.fitted span {\n",
              "  /* fitted */\n",
              "  background: var(--sklearn-color-fitted-level-0);\n",
              "  border: var(--sklearn-color-fitted-level-3);\n",
              "}\n",
              "\n",
              ".sk-estimator-doc-link:hover span {\n",
              "  display: block;\n",
              "}\n",
              "\n",
              "/* \"?\"-specific style due to the `<a>` HTML tag */\n",
              "\n",
              "#sk-container-id-1 a.estimator_doc_link {\n",
              "  float: right;\n",
              "  font-size: 1rem;\n",
              "  line-height: 1em;\n",
              "  font-family: monospace;\n",
              "  background-color: var(--sklearn-color-background);\n",
              "  border-radius: 1rem;\n",
              "  height: 1rem;\n",
              "  width: 1rem;\n",
              "  text-decoration: none;\n",
              "  /* unfitted */\n",
              "  color: var(--sklearn-color-unfitted-level-1);\n",
              "  border: var(--sklearn-color-unfitted-level-1) 1pt solid;\n",
              "}\n",
              "\n",
              "#sk-container-id-1 a.estimator_doc_link.fitted {\n",
              "  /* fitted */\n",
              "  border: var(--sklearn-color-fitted-level-1) 1pt solid;\n",
              "  color: var(--sklearn-color-fitted-level-1);\n",
              "}\n",
              "\n",
              "/* On hover */\n",
              "#sk-container-id-1 a.estimator_doc_link:hover {\n",
              "  /* unfitted */\n",
              "  background-color: var(--sklearn-color-unfitted-level-3);\n",
              "  color: var(--sklearn-color-background);\n",
              "  text-decoration: none;\n",
              "}\n",
              "\n",
              "#sk-container-id-1 a.estimator_doc_link.fitted:hover {\n",
              "  /* fitted */\n",
              "  background-color: var(--sklearn-color-fitted-level-3);\n",
              "}\n",
              "</style><div id=\"sk-container-id-1\" class=\"sk-top-container\"><div class=\"sk-text-repr-fallback\"><pre>AgglomerativeClustering(n_clusters=3)</pre><b>In a Jupyter environment, please rerun this cell to show the HTML representation or trust the notebook. <br />On GitHub, the HTML representation is unable to render, please try loading this page with nbviewer.org.</b></div><div class=\"sk-container\" hidden><div class=\"sk-item\"><div class=\"sk-estimator fitted sk-toggleable\"><input class=\"sk-toggleable__control sk-hidden--visually\" id=\"sk-estimator-id-1\" type=\"checkbox\" checked><label for=\"sk-estimator-id-1\" class=\"sk-toggleable__label fitted sk-toggleable__label-arrow fitted\">&nbsp;&nbsp;AgglomerativeClustering<a class=\"sk-estimator-doc-link fitted\" rel=\"noreferrer\" target=\"_blank\" href=\"https://scikit-learn.org/1.4/modules/generated/sklearn.cluster.AgglomerativeClustering.html\">?<span>Documentation for AgglomerativeClustering</span></a><span class=\"sk-estimator-doc-link fitted\">i<span>Fitted</span></span></label><div class=\"sk-toggleable__content fitted\"><pre>AgglomerativeClustering(n_clusters=3)</pre></div> </div></div></div></div>"
            ],
            "text/plain": [
              "AgglomerativeClustering(n_clusters=3)"
            ]
          },
          "execution_count": 57,
          "metadata": {},
          "output_type": "execute_result"
        }
      ],
      "source": [
        "\n",
        "\n",
        "clustering= AgglomerativeClustering(n_clusters= 3) #linkage=\"ward\", by default\n",
        "clustering.fit(df_1)"
      ]
    },
    {
      "cell_type": "markdown",
      "metadata": {
        "id": "9U0hsD5Ie16E"
      },
      "source": [
        "# Just checking, Agglomerative clustering results\n",
        "\n"
      ]
    },
    {
      "cell_type": "code",
      "execution_count": 58,
      "metadata": {
        "id": "IAJzJjqBe16E",
        "outputId": "76511399-830f-485c-a972-f44b66c22421"
      },
      "outputs": [
        {
          "data": {
            "text/html": [
              "<div>\n",
              "<style scoped>\n",
              "    .dataframe tbody tr th:only-of-type {\n",
              "        vertical-align: middle;\n",
              "    }\n",
              "\n",
              "    .dataframe tbody tr th {\n",
              "        vertical-align: top;\n",
              "    }\n",
              "\n",
              "    .dataframe thead th {\n",
              "        text-align: right;\n",
              "    }\n",
              "</style>\n",
              "<table border=\"1\" class=\"dataframe\">\n",
              "  <thead>\n",
              "    <tr style=\"text-align: right;\">\n",
              "      <th></th>\n",
              "      <th>CustomerID</th>\n",
              "      <th>Recency</th>\n",
              "      <th>Frequency</th>\n",
              "      <th>Monetary</th>\n",
              "      <th>R</th>\n",
              "      <th>F</th>\n",
              "      <th>M</th>\n",
              "      <th>Cluster</th>\n",
              "    </tr>\n",
              "  </thead>\n",
              "  <tbody>\n",
              "    <tr>\n",
              "      <th>0</th>\n",
              "      <td>12749</td>\n",
              "      <td>4</td>\n",
              "      <td>5</td>\n",
              "      <td>98.35</td>\n",
              "      <td>0.009119</td>\n",
              "      <td>0.4</td>\n",
              "      <td>0.431227</td>\n",
              "      <td>1</td>\n",
              "    </tr>\n",
              "    <tr>\n",
              "      <th>1</th>\n",
              "      <td>12820</td>\n",
              "      <td>4</td>\n",
              "      <td>4</td>\n",
              "      <td>58.20</td>\n",
              "      <td>0.009119</td>\n",
              "      <td>0.3</td>\n",
              "      <td>0.255185</td>\n",
              "      <td>1</td>\n",
              "    </tr>\n",
              "    <tr>\n",
              "      <th>2</th>\n",
              "      <td>12821</td>\n",
              "      <td>215</td>\n",
              "      <td>1</td>\n",
              "      <td>19.92</td>\n",
              "      <td>0.650456</td>\n",
              "      <td>0.0</td>\n",
              "      <td>0.087342</td>\n",
              "      <td>2</td>\n",
              "    </tr>\n",
              "    <tr>\n",
              "      <th>3</th>\n",
              "      <td>12822</td>\n",
              "      <td>71</td>\n",
              "      <td>2</td>\n",
              "      <td>30.80</td>\n",
              "      <td>0.212766</td>\n",
              "      <td>0.1</td>\n",
              "      <td>0.135046</td>\n",
              "      <td>1</td>\n",
              "    </tr>\n",
              "    <tr>\n",
              "      <th>4</th>\n",
              "      <td>12824</td>\n",
              "      <td>60</td>\n",
              "      <td>1</td>\n",
              "      <td>5.04</td>\n",
              "      <td>0.179331</td>\n",
              "      <td>0.0</td>\n",
              "      <td>0.022098</td>\n",
              "      <td>1</td>\n",
              "    </tr>\n",
              "    <tr>\n",
              "      <th>5</th>\n",
              "      <td>12826</td>\n",
              "      <td>3</td>\n",
              "      <td>7</td>\n",
              "      <td>122.80</td>\n",
              "      <td>0.006079</td>\n",
              "      <td>0.6</td>\n",
              "      <td>0.538431</td>\n",
              "      <td>3</td>\n",
              "    </tr>\n",
              "    <tr>\n",
              "      <th>6</th>\n",
              "      <td>12827</td>\n",
              "      <td>6</td>\n",
              "      <td>3</td>\n",
              "      <td>84.21</td>\n",
              "      <td>0.015198</td>\n",
              "      <td>0.2</td>\n",
              "      <td>0.369229</td>\n",
              "      <td>1</td>\n",
              "    </tr>\n",
              "    <tr>\n",
              "      <th>7</th>\n",
              "      <td>12828</td>\n",
              "      <td>3</td>\n",
              "      <td>6</td>\n",
              "      <td>154.80</td>\n",
              "      <td>0.006079</td>\n",
              "      <td>0.5</td>\n",
              "      <td>0.678739</td>\n",
              "      <td>3</td>\n",
              "    </tr>\n",
              "    <tr>\n",
              "      <th>8</th>\n",
              "      <td>12831</td>\n",
              "      <td>263</td>\n",
              "      <td>1</td>\n",
              "      <td>34.20</td>\n",
              "      <td>0.796353</td>\n",
              "      <td>0.0</td>\n",
              "      <td>0.149954</td>\n",
              "      <td>2</td>\n",
              "    </tr>\n",
              "    <tr>\n",
              "      <th>9</th>\n",
              "      <td>12832</td>\n",
              "      <td>33</td>\n",
              "      <td>2</td>\n",
              "      <td>19.90</td>\n",
              "      <td>0.097264</td>\n",
              "      <td>0.1</td>\n",
              "      <td>0.087254</td>\n",
              "      <td>1</td>\n",
              "    </tr>\n",
              "  </tbody>\n",
              "</table>\n",
              "</div>"
            ],
            "text/plain": [
              "  CustomerID  Recency  Frequency  Monetary         R    F         M  Cluster\n",
              "0      12749        4          5     98.35  0.009119  0.4  0.431227        1\n",
              "1      12820        4          4     58.20  0.009119  0.3  0.255185        1\n",
              "2      12821      215          1     19.92  0.650456  0.0  0.087342        2\n",
              "3      12822       71          2     30.80  0.212766  0.1  0.135046        1\n",
              "4      12824       60          1      5.04  0.179331  0.0  0.022098        1\n",
              "5      12826        3          7    122.80  0.006079  0.6  0.538431        3\n",
              "6      12827        6          3     84.21  0.015198  0.2  0.369229        1\n",
              "7      12828        3          6    154.80  0.006079  0.5  0.678739        3\n",
              "8      12831      263          1     34.20  0.796353  0.0  0.149954        2\n",
              "9      12832       33          2     19.90  0.097264  0.1  0.087254        1"
            ]
          },
          "execution_count": 58,
          "metadata": {},
          "output_type": "execute_result"
        }
      ],
      "source": [
        "\n",
        "labels_v0= pd.DataFrame(clustering.labels_)\n",
        "labels_v0\n",
        "RFM_0= pd.concat([df, labels_v0], axis=1)\n",
        "RFM_0.columns= [\"CustomerID\", \"Recency\", \"Frequency\", \"Monetary\", \"R\", \"F\", \"M\", \"Cluster\"]\n",
        "RFM_0[\"Cluster\"] = RFM_0[\"Cluster\"] +1\n",
        "RFM_ward= RFM_0\n",
        "RFM_ward.head(10)"
      ]
    },
    {
      "cell_type": "code",
      "execution_count": 59,
      "metadata": {
        "id": "fbitnOLAe16E",
        "outputId": "5cc267df-e531-49ff-a773-de7cc41a6ef2"
      },
      "outputs": [
        {
          "data": {
            "text/html": [
              "<div>\n",
              "<style scoped>\n",
              "    .dataframe tbody tr th:only-of-type {\n",
              "        vertical-align: middle;\n",
              "    }\n",
              "\n",
              "    .dataframe tbody tr th {\n",
              "        vertical-align: top;\n",
              "    }\n",
              "\n",
              "    .dataframe thead th {\n",
              "        text-align: right;\n",
              "    }\n",
              "</style>\n",
              "<table border=\"1\" class=\"dataframe\">\n",
              "  <thead>\n",
              "    <tr style=\"text-align: right;\">\n",
              "      <th></th>\n",
              "      <th>R</th>\n",
              "    </tr>\n",
              "    <tr>\n",
              "      <th>Cluster</th>\n",
              "      <th></th>\n",
              "    </tr>\n",
              "  </thead>\n",
              "  <tbody>\n",
              "    <tr>\n",
              "      <th>1</th>\n",
              "      <td>0.126690</td>\n",
              "    </tr>\n",
              "    <tr>\n",
              "      <th>2</th>\n",
              "      <td>0.646650</td>\n",
              "    </tr>\n",
              "    <tr>\n",
              "      <th>3</th>\n",
              "      <td>0.103992</td>\n",
              "    </tr>\n",
              "  </tbody>\n",
              "</table>\n",
              "</div>"
            ],
            "text/plain": [
              "                R\n",
              "Cluster          \n",
              "1        0.126690\n",
              "2        0.646650\n",
              "3        0.103992"
            ]
          },
          "execution_count": 59,
          "metadata": {},
          "output_type": "execute_result"
        }
      ],
      "source": [
        "Clusters_R= pd.DataFrame(RFM_ward.groupby(\"Cluster\").R.mean())\n",
        "Clusters_R"
      ]
    },
    {
      "cell_type": "code",
      "execution_count": 60,
      "metadata": {
        "id": "yo-9IHTGe16E",
        "outputId": "6aeac50e-9e95-4fbe-9f51-6a16ba7b29d9"
      },
      "outputs": [
        {
          "data": {
            "text/html": [
              "<div>\n",
              "<style scoped>\n",
              "    .dataframe tbody tr th:only-of-type {\n",
              "        vertical-align: middle;\n",
              "    }\n",
              "\n",
              "    .dataframe tbody tr th {\n",
              "        vertical-align: top;\n",
              "    }\n",
              "\n",
              "    .dataframe thead th {\n",
              "        text-align: right;\n",
              "    }\n",
              "</style>\n",
              "<table border=\"1\" class=\"dataframe\">\n",
              "  <thead>\n",
              "    <tr style=\"text-align: right;\">\n",
              "      <th></th>\n",
              "      <th>F</th>\n",
              "    </tr>\n",
              "    <tr>\n",
              "      <th>Cluster</th>\n",
              "      <th></th>\n",
              "    </tr>\n",
              "  </thead>\n",
              "  <tbody>\n",
              "    <tr>\n",
              "      <th>1</th>\n",
              "      <td>0.159402</td>\n",
              "    </tr>\n",
              "    <tr>\n",
              "      <th>2</th>\n",
              "      <td>0.049784</td>\n",
              "    </tr>\n",
              "    <tr>\n",
              "      <th>3</th>\n",
              "      <td>0.517401</td>\n",
              "    </tr>\n",
              "  </tbody>\n",
              "</table>\n",
              "</div>"
            ],
            "text/plain": [
              "                F\n",
              "Cluster          \n",
              "1        0.159402\n",
              "2        0.049784\n",
              "3        0.517401"
            ]
          },
          "execution_count": 60,
          "metadata": {},
          "output_type": "execute_result"
        }
      ],
      "source": [
        "Clusters_F= pd.DataFrame(RFM_ward.groupby(\"Cluster\").F.mean())\n",
        "Clusters_F"
      ]
    },
    {
      "cell_type": "code",
      "execution_count": 61,
      "metadata": {
        "id": "g1FvKO_We16E",
        "outputId": "54f848d6-0c7d-4155-ef8e-63ca975dad13"
      },
      "outputs": [
        {
          "data": {
            "text/html": [
              "<div>\n",
              "<style scoped>\n",
              "    .dataframe tbody tr th:only-of-type {\n",
              "        vertical-align: middle;\n",
              "    }\n",
              "\n",
              "    .dataframe tbody tr th {\n",
              "        vertical-align: top;\n",
              "    }\n",
              "\n",
              "    .dataframe thead th {\n",
              "        text-align: right;\n",
              "    }\n",
              "</style>\n",
              "<table border=\"1\" class=\"dataframe\">\n",
              "  <thead>\n",
              "    <tr style=\"text-align: right;\">\n",
              "      <th></th>\n",
              "      <th>M</th>\n",
              "    </tr>\n",
              "    <tr>\n",
              "      <th>Cluster</th>\n",
              "      <th></th>\n",
              "    </tr>\n",
              "  </thead>\n",
              "  <tbody>\n",
              "    <tr>\n",
              "      <th>1</th>\n",
              "      <td>0.185205</td>\n",
              "    </tr>\n",
              "    <tr>\n",
              "      <th>2</th>\n",
              "      <td>0.143121</td>\n",
              "    </tr>\n",
              "    <tr>\n",
              "      <th>3</th>\n",
              "      <td>0.677158</td>\n",
              "    </tr>\n",
              "  </tbody>\n",
              "</table>\n",
              "</div>"
            ],
            "text/plain": [
              "                M\n",
              "Cluster          \n",
              "1        0.185205\n",
              "2        0.143121\n",
              "3        0.677158"
            ]
          },
          "execution_count": 61,
          "metadata": {},
          "output_type": "execute_result"
        }
      ],
      "source": [
        "Clusters_M= pd.DataFrame(RFM_ward.groupby(\"Cluster\").M.mean())\n",
        "Clusters_M"
      ]
    },
    {
      "cell_type": "markdown",
      "metadata": {
        "id": "EuBGpou1e16E"
      },
      "source": [
        "# Initial seeds for k-means\n",
        "\n"
      ]
    },
    {
      "cell_type": "code",
      "execution_count": 62,
      "metadata": {
        "id": "LrbM_-o_e16E",
        "outputId": "cbcff5f8-17af-45a2-8b52-f2500c9f8643"
      },
      "outputs": [
        {
          "name": "stdout",
          "output_type": "stream",
          "text": [
            "float64\n",
            "[[0.1266899  0.15940217 0.18520487]\n",
            " [0.64664996 0.04978355 0.14312074]\n",
            " [0.10399227 0.51740139 0.67715798]]\n"
          ]
        }
      ],
      "source": [
        "\n",
        "clusters_ward= pd.concat([Clusters_R, Clusters_F, Clusters_M], axis=1)\n",
        "initial_seeds= clusters_ward.to_numpy() #converting to numpy array\n",
        "print(initial_seeds.dtype)\n",
        "print(initial_seeds)"
      ]
    },
    {
      "cell_type": "markdown",
      "metadata": {
        "id": "-f12i1gee16E"
      },
      "source": [
        "# Compare this silhouette value with the silhouette value obtained from k-means with 'random' initial seeds"
      ]
    },
    {
      "cell_type": "code",
      "execution_count": 63,
      "metadata": {
        "id": "xRF76Si3e16F",
        "outputId": "3e908494-0fdd-42e3-8918-aacfb769d9d7"
      },
      "outputs": [
        {
          "name": "stdout",
          "output_type": "stream",
          "text": [
            "[182.38819976833946, 182.3881997683395, 182.38819976833946, 182.38819976833946, 182.38819976833946, 182.38819976833946, 182.38819976833946, 182.38819976833946, 182.38819976833946, 182.38819976833946, 182.38819976833946, 182.38819976833943, 182.38819976833943, 182.38819976833946, 182.38819976833946, 182.38819976833946, 182.38819976833946, 182.38819976833943, 182.38819976833946, 182.38819976833946]\n",
            "[[0.14478772 0.10794702 0.14451519]\n",
            " [0.69209347 0.04975    0.14476071]\n",
            " [0.11071863 0.46757493 0.55725792]]\n",
            "[8, 8, 8, 8, 8, 8, 8, 8, 8, 8, 8, 8, 8, 8, 8, 8, 8, 8, 8, 8]\n",
            "0.46406676737253666\n"
          ]
        }
      ],
      "source": [
        "inertias_in_each_iteration= []\n",
        "centroids= []\n",
        "number_of_iterations = []\n",
        "\n",
        "for i in range(20):\n",
        "    model= KMeans(n_clusters= 3, init= initial_seeds, max_iter= 500, tol= 1e-10)\n",
        "    model.fit(df_1)\n",
        "    inertias_in_each_iteration.append(model.inertia_)\n",
        "    centroids.append(model.cluster_centers_)\n",
        "    number_of_iterations.append(model.n_iter_)\n",
        "\n",
        "print(inertias_in_each_iteration)\n",
        "print(centroids[-1])\n",
        "print(number_of_iterations)\n",
        "labels= model.labels_\n",
        "labels= pd.Series(labels)\n",
        "print(silhouette_score(df_1, labels))"
      ]
    },
    {
      "cell_type": "code",
      "execution_count": 64,
      "metadata": {
        "id": "4e3H5TLRe16F",
        "outputId": "2d5483d6-3bb4-4bab-e055-f3977943bd62"
      },
      "outputs": [
        {
          "name": "stdout",
          "output_type": "stream",
          "text": [
            "182.38752409695655\n",
            "[[0.69315404 0.04993726 0.14498399]\n",
            " [0.11135896 0.4655914  0.55411392]\n",
            " [0.14518731 0.10646917 0.14332685]]\n",
            "9.67\n",
            "0.46379342782061567\n"
          ]
        }
      ],
      "source": [
        "inertias_in_each_iteration= []\n",
        "centroids= []\n",
        "number_of_iterations = []\n",
        "\n",
        "for i in range(300):\n",
        "    model= KMeans(n_clusters= 3, init= 'random', n_init= 10, max_iter= 500, tol= 1e-10)\n",
        "    model.fit(df_1)\n",
        "    inertias_in_each_iteration.append(model.inertia_)\n",
        "    centroids.append(model.cluster_centers_)\n",
        "    number_of_iterations.append(model.n_iter_)\n",
        "\n",
        "print(np.mean(inertias_in_each_iteration))\n",
        "print(centroids[-1])\n",
        "print(np.mean(number_of_iterations))\n",
        "labels= model.labels_\n",
        "labels= pd.Series(labels)\n",
        "print(silhouette_score(df_1, labels))"
      ]
    },
    {
      "cell_type": "markdown",
      "metadata": {
        "id": "aL96HBaOe16F"
      },
      "source": [
        "# Resulting dataframe showing customer R,F,M values and which cluster the customer belongs to\n",
        "\n"
      ]
    },
    {
      "cell_type": "code",
      "execution_count": 66,
      "metadata": {
        "id": "vpFbyr6Fe16F",
        "outputId": "75bbb893-1b4b-4bc1-bc83-c2926b0ea1ce"
      },
      "outputs": [
        {
          "data": {
            "text/html": [
              "<div>\n",
              "<style scoped>\n",
              "    .dataframe tbody tr th:only-of-type {\n",
              "        vertical-align: middle;\n",
              "    }\n",
              "\n",
              "    .dataframe tbody tr th {\n",
              "        vertical-align: top;\n",
              "    }\n",
              "\n",
              "    .dataframe thead th {\n",
              "        text-align: right;\n",
              "    }\n",
              "</style>\n",
              "<table border=\"1\" class=\"dataframe\">\n",
              "  <thead>\n",
              "    <tr style=\"text-align: right;\">\n",
              "      <th></th>\n",
              "      <th>CustomerID</th>\n",
              "      <th>Recency</th>\n",
              "      <th>Frequency</th>\n",
              "      <th>Monetary</th>\n",
              "      <th>R</th>\n",
              "      <th>F</th>\n",
              "      <th>M</th>\n",
              "      <th>Cluster</th>\n",
              "    </tr>\n",
              "  </thead>\n",
              "  <tbody>\n",
              "    <tr>\n",
              "      <th>0</th>\n",
              "      <td>12749</td>\n",
              "      <td>4</td>\n",
              "      <td>5</td>\n",
              "      <td>98.35</td>\n",
              "      <td>0.009119</td>\n",
              "      <td>0.4</td>\n",
              "      <td>0.431227</td>\n",
              "      <td>2</td>\n",
              "    </tr>\n",
              "    <tr>\n",
              "      <th>1</th>\n",
              "      <td>12820</td>\n",
              "      <td>4</td>\n",
              "      <td>4</td>\n",
              "      <td>58.20</td>\n",
              "      <td>0.009119</td>\n",
              "      <td>0.3</td>\n",
              "      <td>0.255185</td>\n",
              "      <td>1</td>\n",
              "    </tr>\n",
              "    <tr>\n",
              "      <th>2</th>\n",
              "      <td>12821</td>\n",
              "      <td>215</td>\n",
              "      <td>1</td>\n",
              "      <td>19.92</td>\n",
              "      <td>0.650456</td>\n",
              "      <td>0.0</td>\n",
              "      <td>0.087342</td>\n",
              "      <td>3</td>\n",
              "    </tr>\n",
              "    <tr>\n",
              "      <th>3</th>\n",
              "      <td>12822</td>\n",
              "      <td>71</td>\n",
              "      <td>2</td>\n",
              "      <td>30.80</td>\n",
              "      <td>0.212766</td>\n",
              "      <td>0.1</td>\n",
              "      <td>0.135046</td>\n",
              "      <td>1</td>\n",
              "    </tr>\n",
              "    <tr>\n",
              "      <th>4</th>\n",
              "      <td>12824</td>\n",
              "      <td>60</td>\n",
              "      <td>1</td>\n",
              "      <td>5.04</td>\n",
              "      <td>0.179331</td>\n",
              "      <td>0.0</td>\n",
              "      <td>0.022098</td>\n",
              "      <td>1</td>\n",
              "    </tr>\n",
              "  </tbody>\n",
              "</table>\n",
              "</div>"
            ],
            "text/plain": [
              "  CustomerID  Recency  Frequency  Monetary         R    F         M  Cluster\n",
              "0      12749        4          5     98.35  0.009119  0.4  0.431227        2\n",
              "1      12820        4          4     58.20  0.009119  0.3  0.255185        1\n",
              "2      12821      215          1     19.92  0.650456  0.0  0.087342        3\n",
              "3      12822       71          2     30.80  0.212766  0.1  0.135046        1\n",
              "4      12824       60          1      5.04  0.179331  0.0  0.022098        1"
            ]
          },
          "execution_count": 66,
          "metadata": {},
          "output_type": "execute_result"
        }
      ],
      "source": [
        "\n",
        "RFM_1 = pd.concat([df, pd.Series(labels)], axis= 1)\n",
        "RFM_1.columns= [\"CustomerID\", \"Recency\", \"Frequency\", \"Monetary\", \"R\", \"F\", \"M\", \"Cluster\"]\n",
        "RFM_1[\"Cluster\"] = RFM_1[\"Cluster\"] +1\n",
        "RFM_1.head()"
      ]
    },
    {
      "cell_type": "markdown",
      "metadata": {
        "id": "5zIL6Mioe16F"
      },
      "source": [
        "# Number of customers in each cluster\n",
        "\n"
      ]
    },
    {
      "cell_type": "code",
      "execution_count": 67,
      "metadata": {
        "id": "ohX-cvBOe16F",
        "outputId": "c1820ab2-61ce-4bd6-a9a5-4a6a20b9867f"
      },
      "outputs": [
        {
          "data": {
            "text/plain": [
              "Cluster\n",
              "1    1662\n",
              "2     737\n",
              "3     796\n",
              "Name: CustomerID, dtype: int64"
            ]
          },
          "execution_count": 67,
          "metadata": {},
          "output_type": "execute_result"
        }
      ],
      "source": [
        "\n",
        "RFM_1.groupby(\"Cluster\").CustomerID.count()\n"
      ]
    },
    {
      "cell_type": "code",
      "execution_count": 68,
      "metadata": {
        "id": "Api-e_fze16F",
        "outputId": "9aea41ad-4c3f-4f3d-fa70-4f5ce1c6c1a9"
      },
      "outputs": [
        {
          "data": {
            "text/html": [
              "<div>\n",
              "<style scoped>\n",
              "    .dataframe tbody tr th:only-of-type {\n",
              "        vertical-align: middle;\n",
              "    }\n",
              "\n",
              "    .dataframe tbody tr th {\n",
              "        vertical-align: top;\n",
              "    }\n",
              "\n",
              "    .dataframe thead th {\n",
              "        text-align: right;\n",
              "    }\n",
              "</style>\n",
              "<table border=\"1\" class=\"dataframe\">\n",
              "  <thead>\n",
              "    <tr style=\"text-align: right;\">\n",
              "      <th></th>\n",
              "      <th>Recency</th>\n",
              "    </tr>\n",
              "    <tr>\n",
              "      <th>Cluster</th>\n",
              "      <th></th>\n",
              "    </tr>\n",
              "  </thead>\n",
              "  <tbody>\n",
              "    <tr>\n",
              "      <th>1</th>\n",
              "      <td>48.816486</td>\n",
              "    </tr>\n",
              "    <tr>\n",
              "      <th>2</th>\n",
              "      <td>37.546811</td>\n",
              "    </tr>\n",
              "    <tr>\n",
              "      <th>3</th>\n",
              "      <td>229.155779</td>\n",
              "    </tr>\n",
              "  </tbody>\n",
              "</table>\n",
              "</div>"
            ],
            "text/plain": [
              "            Recency\n",
              "Cluster            \n",
              "1         48.816486\n",
              "2         37.546811\n",
              "3        229.155779"
            ]
          },
          "execution_count": 68,
          "metadata": {},
          "output_type": "execute_result"
        }
      ],
      "source": [
        "Clusters_Recency= pd.DataFrame(RFM_1.groupby(\"Cluster\").Recency.mean())\n",
        "Clusters_Recency"
      ]
    },
    {
      "cell_type": "code",
      "execution_count": 69,
      "metadata": {
        "id": "uJWSLBYQe16F",
        "outputId": "de74e98b-f393-4e8d-8e59-f1c7b3334549"
      },
      "outputs": [
        {
          "data": {
            "text/html": [
              "<div>\n",
              "<style scoped>\n",
              "    .dataframe tbody tr th:only-of-type {\n",
              "        vertical-align: middle;\n",
              "    }\n",
              "\n",
              "    .dataframe tbody tr th {\n",
              "        vertical-align: top;\n",
              "    }\n",
              "\n",
              "    .dataframe thead th {\n",
              "        text-align: right;\n",
              "    }\n",
              "</style>\n",
              "<table border=\"1\" class=\"dataframe\">\n",
              "  <thead>\n",
              "    <tr style=\"text-align: right;\">\n",
              "      <th></th>\n",
              "      <th>Frequency</th>\n",
              "    </tr>\n",
              "    <tr>\n",
              "      <th>Cluster</th>\n",
              "      <th></th>\n",
              "    </tr>\n",
              "  </thead>\n",
              "  <tbody>\n",
              "    <tr>\n",
              "      <th>1</th>\n",
              "      <td>2.075211</td>\n",
              "    </tr>\n",
              "    <tr>\n",
              "      <th>2</th>\n",
              "      <td>5.667571</td>\n",
              "    </tr>\n",
              "    <tr>\n",
              "      <th>3</th>\n",
              "      <td>1.497487</td>\n",
              "    </tr>\n",
              "  </tbody>\n",
              "</table>\n",
              "</div>"
            ],
            "text/plain": [
              "         Frequency\n",
              "Cluster           \n",
              "1         2.075211\n",
              "2         5.667571\n",
              "3         1.497487"
            ]
          },
          "execution_count": 69,
          "metadata": {},
          "output_type": "execute_result"
        }
      ],
      "source": [
        "Clusters_Frequency= pd.DataFrame(RFM_1.groupby(\"Cluster\").Frequency.mean())\n",
        "Clusters_Frequency"
      ]
    },
    {
      "cell_type": "code",
      "execution_count": 70,
      "metadata": {
        "id": "DHAEdsJce16F",
        "outputId": "9ece89ed-f388-43d9-cbe5-99f30409dc94"
      },
      "outputs": [
        {
          "data": {
            "text/html": [
              "<div>\n",
              "<style scoped>\n",
              "    .dataframe tbody tr th:only-of-type {\n",
              "        vertical-align: middle;\n",
              "    }\n",
              "\n",
              "    .dataframe tbody tr th {\n",
              "        vertical-align: top;\n",
              "    }\n",
              "\n",
              "    .dataframe thead th {\n",
              "        text-align: right;\n",
              "    }\n",
              "</style>\n",
              "<table border=\"1\" class=\"dataframe\">\n",
              "  <thead>\n",
              "    <tr style=\"text-align: right;\">\n",
              "      <th></th>\n",
              "      <th>Monetary</th>\n",
              "    </tr>\n",
              "    <tr>\n",
              "      <th>Cluster</th>\n",
              "      <th></th>\n",
              "    </tr>\n",
              "  </thead>\n",
              "  <tbody>\n",
              "    <tr>\n",
              "      <th>1</th>\n",
              "      <td>32.850692</td>\n",
              "    </tr>\n",
              "    <tr>\n",
              "      <th>2</th>\n",
              "      <td>126.924437</td>\n",
              "    </tr>\n",
              "    <tr>\n",
              "      <th>3</th>\n",
              "      <td>33.045251</td>\n",
              "    </tr>\n",
              "  </tbody>\n",
              "</table>\n",
              "</div>"
            ],
            "text/plain": [
              "           Monetary\n",
              "Cluster            \n",
              "1         32.850692\n",
              "2        126.924437\n",
              "3         33.045251"
            ]
          },
          "execution_count": 70,
          "metadata": {},
          "output_type": "execute_result"
        }
      ],
      "source": [
        "Clusters_Monetary= pd.DataFrame(RFM_1.groupby(\"Cluster\").Monetary.mean())\n",
        "Clusters_Monetary"
      ]
    },
    {
      "cell_type": "markdown",
      "metadata": {
        "id": "UueinkjDe16G"
      },
      "source": [
        "# Finally creating new dataframe (1 for each cluster)\n",
        "\n"
      ]
    },
    {
      "cell_type": "code",
      "execution_count": 71,
      "metadata": {
        "id": "7ZkBK221e16G",
        "outputId": "03783aad-803b-448f-c184-6bd04b205547"
      },
      "outputs": [
        {
          "data": {
            "text/html": [
              "<div>\n",
              "<style scoped>\n",
              "    .dataframe tbody tr th:only-of-type {\n",
              "        vertical-align: middle;\n",
              "    }\n",
              "\n",
              "    .dataframe tbody tr th {\n",
              "        vertical-align: top;\n",
              "    }\n",
              "\n",
              "    .dataframe thead th {\n",
              "        text-align: right;\n",
              "    }\n",
              "</style>\n",
              "<table border=\"1\" class=\"dataframe\">\n",
              "  <thead>\n",
              "    <tr style=\"text-align: right;\">\n",
              "      <th></th>\n",
              "      <th>CustomerID</th>\n",
              "      <th>Recency</th>\n",
              "      <th>Frequency</th>\n",
              "      <th>Monetary</th>\n",
              "      <th>R</th>\n",
              "      <th>F</th>\n",
              "      <th>M</th>\n",
              "      <th>Cluster</th>\n",
              "    </tr>\n",
              "  </thead>\n",
              "  <tbody>\n",
              "    <tr>\n",
              "      <th>1</th>\n",
              "      <td>12820</td>\n",
              "      <td>4</td>\n",
              "      <td>4</td>\n",
              "      <td>58.20</td>\n",
              "      <td>0.009119</td>\n",
              "      <td>0.3</td>\n",
              "      <td>0.255185</td>\n",
              "      <td>1</td>\n",
              "    </tr>\n",
              "    <tr>\n",
              "      <th>3</th>\n",
              "      <td>12822</td>\n",
              "      <td>71</td>\n",
              "      <td>2</td>\n",
              "      <td>30.80</td>\n",
              "      <td>0.212766</td>\n",
              "      <td>0.1</td>\n",
              "      <td>0.135046</td>\n",
              "      <td>1</td>\n",
              "    </tr>\n",
              "    <tr>\n",
              "      <th>4</th>\n",
              "      <td>12824</td>\n",
              "      <td>60</td>\n",
              "      <td>1</td>\n",
              "      <td>5.04</td>\n",
              "      <td>0.179331</td>\n",
              "      <td>0.0</td>\n",
              "      <td>0.022098</td>\n",
              "      <td>1</td>\n",
              "    </tr>\n",
              "    <tr>\n",
              "      <th>6</th>\n",
              "      <td>12827</td>\n",
              "      <td>6</td>\n",
              "      <td>3</td>\n",
              "      <td>84.21</td>\n",
              "      <td>0.015198</td>\n",
              "      <td>0.2</td>\n",
              "      <td>0.369229</td>\n",
              "      <td>1</td>\n",
              "    </tr>\n",
              "    <tr>\n",
              "      <th>9</th>\n",
              "      <td>12832</td>\n",
              "      <td>33</td>\n",
              "      <td>2</td>\n",
              "      <td>19.90</td>\n",
              "      <td>0.097264</td>\n",
              "      <td>0.1</td>\n",
              "      <td>0.087254</td>\n",
              "      <td>1</td>\n",
              "    </tr>\n",
              "  </tbody>\n",
              "</table>\n",
              "</div>"
            ],
            "text/plain": [
              "  CustomerID  Recency  Frequency  Monetary         R    F         M  Cluster\n",
              "1      12820        4          4     58.20  0.009119  0.3  0.255185        1\n",
              "3      12822       71          2     30.80  0.212766  0.1  0.135046        1\n",
              "4      12824       60          1      5.04  0.179331  0.0  0.022098        1\n",
              "6      12827        6          3     84.21  0.015198  0.2  0.369229        1\n",
              "9      12832       33          2     19.90  0.097264  0.1  0.087254        1"
            ]
          },
          "execution_count": 71,
          "metadata": {},
          "output_type": "execute_result"
        }
      ],
      "source": [
        "\n",
        "cluster_1= RFM_1[RFM_1[\"Cluster\"]==1]\n",
        "cluster_2= RFM_1[RFM_1[\"Cluster\"]==2]\n",
        "cluster_3= RFM_1[RFM_1[\"Cluster\"]==3]\n",
        "cluster_1.head()\n"
      ]
    },
    {
      "cell_type": "code",
      "execution_count": 72,
      "metadata": {
        "id": "Pqo__u_ve16G"
      },
      "outputs": [
        {
          "data": {
            "text/html": [
              "<div>\n",
              "<style scoped>\n",
              "    .dataframe tbody tr th:only-of-type {\n",
              "        vertical-align: middle;\n",
              "    }\n",
              "\n",
              "    .dataframe tbody tr th {\n",
              "        vertical-align: top;\n",
              "    }\n",
              "\n",
              "    .dataframe thead th {\n",
              "        text-align: right;\n",
              "    }\n",
              "</style>\n",
              "<table border=\"1\" class=\"dataframe\">\n",
              "  <thead>\n",
              "    <tr style=\"text-align: right;\">\n",
              "      <th></th>\n",
              "      <th>CustomerID</th>\n",
              "      <th>Recency</th>\n",
              "      <th>Frequency</th>\n",
              "      <th>Monetary</th>\n",
              "      <th>R</th>\n",
              "      <th>F</th>\n",
              "      <th>M</th>\n",
              "      <th>Cluster</th>\n",
              "    </tr>\n",
              "  </thead>\n",
              "  <tbody>\n",
              "    <tr>\n",
              "      <th>0</th>\n",
              "      <td>12749</td>\n",
              "      <td>4</td>\n",
              "      <td>5</td>\n",
              "      <td>98.35</td>\n",
              "      <td>0.009119</td>\n",
              "      <td>0.4</td>\n",
              "      <td>0.431227</td>\n",
              "      <td>2</td>\n",
              "    </tr>\n",
              "    <tr>\n",
              "      <th>5</th>\n",
              "      <td>12826</td>\n",
              "      <td>3</td>\n",
              "      <td>7</td>\n",
              "      <td>122.80</td>\n",
              "      <td>0.006079</td>\n",
              "      <td>0.6</td>\n",
              "      <td>0.538431</td>\n",
              "      <td>2</td>\n",
              "    </tr>\n",
              "    <tr>\n",
              "      <th>7</th>\n",
              "      <td>12828</td>\n",
              "      <td>3</td>\n",
              "      <td>6</td>\n",
              "      <td>154.80</td>\n",
              "      <td>0.006079</td>\n",
              "      <td>0.5</td>\n",
              "      <td>0.678739</td>\n",
              "      <td>2</td>\n",
              "    </tr>\n",
              "    <tr>\n",
              "      <th>15</th>\n",
              "      <td>12840</td>\n",
              "      <td>144</td>\n",
              "      <td>4</td>\n",
              "      <td>138.60</td>\n",
              "      <td>0.434650</td>\n",
              "      <td>0.3</td>\n",
              "      <td>0.607708</td>\n",
              "      <td>2</td>\n",
              "    </tr>\n",
              "    <tr>\n",
              "      <th>17</th>\n",
              "      <td>12843</td>\n",
              "      <td>66</td>\n",
              "      <td>8</td>\n",
              "      <td>123.20</td>\n",
              "      <td>0.197568</td>\n",
              "      <td>0.7</td>\n",
              "      <td>0.540185</td>\n",
              "      <td>2</td>\n",
              "    </tr>\n",
              "  </tbody>\n",
              "</table>\n",
              "</div>"
            ],
            "text/plain": [
              "   CustomerID  Recency  Frequency  Monetary         R    F         M  Cluster\n",
              "0       12749        4          5     98.35  0.009119  0.4  0.431227        2\n",
              "5       12826        3          7    122.80  0.006079  0.6  0.538431        2\n",
              "7       12828        3          6    154.80  0.006079  0.5  0.678739        2\n",
              "15      12840      144          4    138.60  0.434650  0.3  0.607708        2\n",
              "17      12843       66          8    123.20  0.197568  0.7  0.540185        2"
            ]
          },
          "execution_count": 72,
          "metadata": {},
          "output_type": "execute_result"
        }
      ],
      "source": [
        "cluster_2.head()"
      ]
    },
    {
      "cell_type": "code",
      "execution_count": 73,
      "metadata": {
        "id": "OKC1zZ54fOMU"
      },
      "outputs": [
        {
          "data": {
            "text/html": [
              "<div>\n",
              "<style scoped>\n",
              "    .dataframe tbody tr th:only-of-type {\n",
              "        vertical-align: middle;\n",
              "    }\n",
              "\n",
              "    .dataframe tbody tr th {\n",
              "        vertical-align: top;\n",
              "    }\n",
              "\n",
              "    .dataframe thead th {\n",
              "        text-align: right;\n",
              "    }\n",
              "</style>\n",
              "<table border=\"1\" class=\"dataframe\">\n",
              "  <thead>\n",
              "    <tr style=\"text-align: right;\">\n",
              "      <th></th>\n",
              "      <th>CustomerID</th>\n",
              "      <th>Recency</th>\n",
              "      <th>Frequency</th>\n",
              "      <th>Monetary</th>\n",
              "      <th>R</th>\n",
              "      <th>F</th>\n",
              "      <th>M</th>\n",
              "      <th>Cluster</th>\n",
              "    </tr>\n",
              "  </thead>\n",
              "  <tbody>\n",
              "    <tr>\n",
              "      <th>2</th>\n",
              "      <td>12821</td>\n",
              "      <td>215</td>\n",
              "      <td>1</td>\n",
              "      <td>19.92</td>\n",
              "      <td>0.650456</td>\n",
              "      <td>0.0</td>\n",
              "      <td>0.087342</td>\n",
              "      <td>3</td>\n",
              "    </tr>\n",
              "    <tr>\n",
              "      <th>8</th>\n",
              "      <td>12831</td>\n",
              "      <td>263</td>\n",
              "      <td>1</td>\n",
              "      <td>34.20</td>\n",
              "      <td>0.796353</td>\n",
              "      <td>0.0</td>\n",
              "      <td>0.149954</td>\n",
              "      <td>3</td>\n",
              "    </tr>\n",
              "    <tr>\n",
              "      <th>10</th>\n",
              "      <td>12833</td>\n",
              "      <td>146</td>\n",
              "      <td>1</td>\n",
              "      <td>15.00</td>\n",
              "      <td>0.440729</td>\n",
              "      <td>0.0</td>\n",
              "      <td>0.065769</td>\n",
              "      <td>3</td>\n",
              "    </tr>\n",
              "    <tr>\n",
              "      <th>11</th>\n",
              "      <td>12834</td>\n",
              "      <td>283</td>\n",
              "      <td>1</td>\n",
              "      <td>15.90</td>\n",
              "      <td>0.857143</td>\n",
              "      <td>0.0</td>\n",
              "      <td>0.069715</td>\n",
              "      <td>3</td>\n",
              "    </tr>\n",
              "    <tr>\n",
              "      <th>13</th>\n",
              "      <td>12837</td>\n",
              "      <td>174</td>\n",
              "      <td>1</td>\n",
              "      <td>17.00</td>\n",
              "      <td>0.525836</td>\n",
              "      <td>0.0</td>\n",
              "      <td>0.074539</td>\n",
              "      <td>3</td>\n",
              "    </tr>\n",
              "  </tbody>\n",
              "</table>\n",
              "</div>"
            ],
            "text/plain": [
              "   CustomerID  Recency  Frequency  Monetary         R    F         M  Cluster\n",
              "2       12821      215          1     19.92  0.650456  0.0  0.087342        3\n",
              "8       12831      263          1     34.20  0.796353  0.0  0.149954        3\n",
              "10      12833      146          1     15.00  0.440729  0.0  0.065769        3\n",
              "11      12834      283          1     15.90  0.857143  0.0  0.069715        3\n",
              "13      12837      174          1     17.00  0.525836  0.0  0.074539        3"
            ]
          },
          "execution_count": 73,
          "metadata": {},
          "output_type": "execute_result"
        }
      ],
      "source": [
        "cluster_3.head()"
      ]
    },
    {
      "cell_type": "code",
      "execution_count": 74,
      "metadata": {},
      "outputs": [],
      "source": [
        "df['Cluster'] = kmeans.labels_"
      ]
    },
    {
      "cell_type": "code",
      "execution_count": 78,
      "metadata": {},
      "outputs": [
        {
          "name": "stdout",
          "output_type": "stream",
          "text": [
            "['CustomerID', 'Recency', 'Frequency', 'Monetary', 'R', 'F', 'M', 'Cluster']\n"
          ]
        }
      ],
      "source": [
        "print(df.columns.tolist())"
      ]
    },
    {
      "cell_type": "code",
      "execution_count": null,
      "metadata": {},
      "outputs": [
        {
          "data": {
            "text/html": [
              "<div>\n",
              "<style scoped>\n",
              "    .dataframe tbody tr th:only-of-type {\n",
              "        vertical-align: middle;\n",
              "    }\n",
              "\n",
              "    .dataframe tbody tr th {\n",
              "        vertical-align: top;\n",
              "    }\n",
              "\n",
              "    .dataframe thead th {\n",
              "        text-align: right;\n",
              "    }\n",
              "</style>\n",
              "<table border=\"1\" class=\"dataframe\">\n",
              "  <thead>\n",
              "    <tr style=\"text-align: right;\">\n",
              "      <th></th>\n",
              "      <th>Recency</th>\n",
              "      <th>Frequency</th>\n",
              "      <th>Monetary</th>\n",
              "    </tr>\n",
              "    <tr>\n",
              "      <th>Cluster</th>\n",
              "      <th></th>\n",
              "      <th></th>\n",
              "      <th></th>\n",
              "    </tr>\n",
              "  </thead>\n",
              "  <tbody>\n",
              "    <tr>\n",
              "      <th>0</th>\n",
              "      <td>26.058376</td>\n",
              "      <td>1.256345</td>\n",
              "      <td>12.713503</td>\n",
              "    </tr>\n",
              "    <tr>\n",
              "      <th>1</th>\n",
              "      <td>224.116466</td>\n",
              "      <td>1.433735</td>\n",
              "      <td>26.661847</td>\n",
              "    </tr>\n",
              "    <tr>\n",
              "      <th>2</th>\n",
              "      <td>28.149701</td>\n",
              "      <td>6.197605</td>\n",
              "      <td>124.790180</td>\n",
              "    </tr>\n",
              "    <tr>\n",
              "      <th>3</th>\n",
              "      <td>289.011765</td>\n",
              "      <td>1.235294</td>\n",
              "      <td>22.216000</td>\n",
              "    </tr>\n",
              "    <tr>\n",
              "      <th>4</th>\n",
              "      <td>26.399209</td>\n",
              "      <td>4.667984</td>\n",
              "      <td>65.513320</td>\n",
              "    </tr>\n",
              "    <tr>\n",
              "      <th>5</th>\n",
              "      <td>23.232558</td>\n",
              "      <td>8.151163</td>\n",
              "      <td>68.960698</td>\n",
              "    </tr>\n",
              "    <tr>\n",
              "      <th>6</th>\n",
              "      <td>28.068376</td>\n",
              "      <td>2.668803</td>\n",
              "      <td>37.542585</td>\n",
              "    </tr>\n",
              "    <tr>\n",
              "      <th>7</th>\n",
              "      <td>73.727979</td>\n",
              "      <td>1.259067</td>\n",
              "      <td>21.290466</td>\n",
              "    </tr>\n",
              "    <tr>\n",
              "      <th>8</th>\n",
              "      <td>50.432000</td>\n",
              "      <td>3.616000</td>\n",
              "      <td>184.501120</td>\n",
              "    </tr>\n",
              "    <tr>\n",
              "      <th>9</th>\n",
              "      <td>222.443038</td>\n",
              "      <td>2.405063</td>\n",
              "      <td>138.575063</td>\n",
              "    </tr>\n",
              "    <tr>\n",
              "      <th>10</th>\n",
              "      <td>156.891791</td>\n",
              "      <td>1.447761</td>\n",
              "      <td>21.604142</td>\n",
              "    </tr>\n",
              "    <tr>\n",
              "      <th>11</th>\n",
              "      <td>37.638889</td>\n",
              "      <td>2.650000</td>\n",
              "      <td>104.006111</td>\n",
              "    </tr>\n",
              "    <tr>\n",
              "      <th>12</th>\n",
              "      <td>25.250000</td>\n",
              "      <td>8.798077</td>\n",
              "      <td>177.677404</td>\n",
              "    </tr>\n",
              "    <tr>\n",
              "      <th>13</th>\n",
              "      <td>116.823204</td>\n",
              "      <td>3.187845</td>\n",
              "      <td>60.768785</td>\n",
              "    </tr>\n",
              "  </tbody>\n",
              "</table>\n",
              "</div>"
            ],
            "text/plain": [
              "            Recency  Frequency    Monetary\n",
              "Cluster                                   \n",
              "0         26.058376   1.256345   12.713503\n",
              "1        224.116466   1.433735   26.661847\n",
              "2         28.149701   6.197605  124.790180\n",
              "3        289.011765   1.235294   22.216000\n",
              "4         26.399209   4.667984   65.513320\n",
              "5         23.232558   8.151163   68.960698\n",
              "6         28.068376   2.668803   37.542585\n",
              "7         73.727979   1.259067   21.290466\n",
              "8         50.432000   3.616000  184.501120\n",
              "9        222.443038   2.405063  138.575063\n",
              "10       156.891791   1.447761   21.604142\n",
              "11        37.638889   2.650000  104.006111\n",
              "12        25.250000   8.798077  177.677404\n",
              "13       116.823204   3.187845   60.768785"
            ]
          },
          "execution_count": 79,
          "metadata": {},
          "output_type": "execute_result"
        }
      ],
      "source": [
        "\n",
        "\n",
        "\n",
        "\n",
        "\n",
        "\n",
        "\n",
        "\n",
        "\n",
        "\n",
        "\n",
        "\n",
        "\n",
        "\n",
        "\n",
        "\n",
        "\n",
        "\n",
        "df.groupby('Cluster')[['Recency', 'Frequency', 'Monetary']].mean()"
      ]
    },
    {
      "cell_type": "code",
      "execution_count": 82,
      "metadata": {},
      "outputs": [],
      "source": [
        "# Optional: Add customer segment names for clarity\n",
        "cluster_names = {\n",
        "    0: 'Best Customers',\n",
        "    1: 'Loyal Customers',\n",
        "    2: 'Churn Risk',\n",
        "    3: 'Big Spenders',\n",
        "    4: 'Low Value'\n",
        "}\n",
        "\n",
        "df['Segment'] = df['Cluster'].map(cluster_names)"
      ]
    },
    {
      "cell_type": "code",
      "execution_count": 83,
      "metadata": {},
      "outputs": [
        {
          "data": {
            "image/png": "[encoded data removed]",
            "text/plain": [
              "<Figure size 1000x600 with 1 Axes>"
            ]
          },
          "metadata": {},
          "output_type": "display_data"
        }
      ],
      "source": [
        "import seaborn as sns\n",
        "import matplotlib.pyplot as plt\n",
        "\n",
        "plt.figure(figsize=(10, 6))\n",
        "sns.countplot(data=df, x='Segment', order=df['Segment'].value_counts().index)\n",
        "plt.title('Customer Segments Distribution')\n",
        "plt.xlabel('Customer Segment')\n",
        "plt.ylabel('Number of Customers')\n",
        "plt.xticks(rotation=45)\n",
        "plt.tight_layout()\n",
        "plt.show()"
      ]
    },
    {
      "cell_type": "code",
      "execution_count": 84,
      "metadata": {},
      "outputs": [],
      "source": [
        "df.to_csv('Customer_Segments_RFM.csv', index=False)"
      ]
    },
    {
      "cell_type": "markdown",
      "metadata": {},
      "source": [
        "### 📌 Conclusion\n",
        "\n",
        "- Cluster 0 (\"Best Customers\") are recent, frequent, and high spenders — ideal for loyalty programs.\n",
        "- Cluster 2 has high recency, low frequency and monetary — likely churned or inactive.\n",
        "- Cluster 3 shows moderate frequency but very high monetary — big-ticket spenders.\n",
        "\n",
        "➡️ These insights can guide personalized marketing, promotions, and customer retention efforts.\n"
      ]
    }
  ],
  "metadata": {
    "colab": {
      "provenance": []
    },
    "kernelspec": {
      "display_name": "Python 3",
      "language": "python",
      "name": "python3"
    },
    "language_info": {
      "codemirror_mode": {
        "name": "ipython",
        "version": 3
      },
      "file_extension": ".py",
      "mimetype": "text/x-python",
      "name": "python",
      "nbconvert_exporter": "python",
      "pygments_lexer": "ipython3",
      "version": "3.11.4"
    }
  },
  "nbformat": 4,
  "nbformat_minor": 0
}
